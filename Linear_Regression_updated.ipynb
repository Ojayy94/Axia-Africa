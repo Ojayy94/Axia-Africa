{
 "cells": [
  {
   "cell_type": "markdown",
   "id": "f3287cd2-8094-4fa3-86a1-c737e1bbe384",
   "metadata": {
    "id": "f3287cd2-8094-4fa3-86a1-c737e1bbe384"
   },
   "source": [
    "# Supervised Machine Learning\n",
    "\n",
    "Supervised learning is a type of machine learning where models are trained on labeled data, meaning that each input example is paired with a correct output. During training, the model learns to predict the output based on these labeled examples.\n",
    "\n",
    "In supervised learning, the labeled data acts as a guide or `supervisor` for the model, much like a teacher guiding a student. The model is provided with input data and corresponding correct outputs, and its goal is to learn a mapping function that can accurately predict the output for new, unseen inputs.\n",
    "\n",
    "In practical applications, supervised learning is used in various domains such as risk assessment, image classification, fraud detection, and spam filtering. The key objective is to build a model that generalizes well to new data by understanding the relationships between input variables $(x)$ and output variables $(y)$ from the training data.\n",
    "\n",
    "Supervised learning can be categorized into two primary types of problems:\n",
    "\n",
    "![image](https://github.com/user-attachments/assets/de847f83-5418-45a2-84a4-6879b79d5cc1)\n",
    "\n",
    "**Regression:** This type of problem focuses on predicting a continuous numeric value based on input data. The aim is to estimate a quantity or measure. Examples of regression problems include:\n",
    "\n",
    "- **House Price Prediction:** Estimating the price of a house based on features like size, location, and number of bedrooms.\n",
    "- **Stock Market Forecasting:** Predicting future stock prices based on historical data and market indicators.\n",
    "\n",
    "**Classification:** This type of problem involves predicting a categorical label. The goal is to assign input data to one of several predefined classes or categories. Examples of classification problems include:\n",
    "\n",
    "- **Email Spam Detection:** Classifying emails as spam or not spam.\n",
    "- **Image Recognition:** Identifying objects in images, such as distinguishing between cats and dogs.\n",
    "\n"
   ]
  },
  {
   "cell_type": "markdown",
   "id": "9350833e-ca7f-4d5a-a8c2-6c0ad679d63f",
   "metadata": {
    "id": "9350833e-ca7f-4d5a-a8c2-6c0ad679d63f"
   },
   "source": [
    "### 1. Regression\n",
    "\n",
    "Regression algorithms are used when there is a relationship between the input variable and a continuous output variable. These algorithms predict numeric values based on input features. Applications include weather forecasting, market trends analysis, and more. Some popular regression algorithms include:\n",
    "\n",
    "- **Linear Regression**: Models the relationship between the input variables and the output as a linear function.\n",
    "- **Regression Trees**: Uses a tree-like model of decisions and their possible consequences to predict numeric values.\n",
    "- **Non-Linear Regression**: Models complex, non-linear relationships between input variables and output values.\n",
    "- **Bayesian Linear Regression**: Incorporates Bayesian principles to model the uncertainty in the regression coefficients.\n",
    "- **Polynomial Regression**: Extends linear regression by fitting a polynomial function to the data.\n",
    "\n",
    "### 2. Classification\n",
    "\n",
    "Classification algorithms are used when the output variable is categorical, meaning that the goal is to assign inputs to discrete classes. Examples include binary classifications such as Yes/No or Male/Female. Common classification algorithms include:\n",
    "\n",
    "- **Random Forest**: An ensemble method that uses multiple decision trees to improve classification accuracy.\n",
    "- **Decision Trees**: A tree-like model that splits data into subsets based on feature values to classify data into categories.\n",
    "- **Logistic Regression**: A statistical model that estimates the probability of a categorical outcome, typically used for binary classification.\n",
    "- **Support Vector Machines (SVM)**: A method that finds the optimal hyperplane that separates different classes in the feature space.\n",
    "\n",
    "These algorithms are selected based on the nature of the problem and the type of data available.\n"
   ]
  },
  {
   "cell_type": "code",
   "execution_count": null,
   "id": "04968ba1-e9f6-43d4-bbbf-fb680089f4e5",
   "metadata": {
    "id": "04968ba1-e9f6-43d4-bbbf-fb680089f4e5"
   },
   "outputs": [],
   "source": []
  },
  {
   "cell_type": "markdown",
   "id": "31a308d5-9c0f-4a38-aa90-72b5c9b1d447",
   "metadata": {
    "id": "31a308d5-9c0f-4a38-aa90-72b5c9b1d447"
   },
   "source": [
    "# Regression Analysis in Machine learning\n",
    "Regression analysis is a statistical method to model the relationship between a dependent (target) and independent (predictor) variables with one or more independent variables. More specifically, Regression analysis helps us to understand how the value of the dependent variable is changing corresponding to an independent variable when other independent variables are held fixed. It predicts continuous/real values such as temperature, age, salary, price, etc. It is commonly used for prediction, forecasting, time series modeling, and determining the causal-effect relationships between variables.\n",
    "\n",
    "We can understand the concept of regression analysis using the below example:\n",
    "\n",
    "Example: Suppose there is a marketing company A, who does various advertisement every year and get sales on that. The below list shows the advertisement made by the company in the last 5 years and the corresponding sales:\n",
    "\n",
    "![image](https://github.com/user-attachments/assets/c2aa234f-2bfa-4aca-a17e-5bfe69ee23bd)\n",
    "\n",
    "Now, the company wants to do the advertisement of $200 in the year 2019 and wants to know the prediction about the sales for this year. So to solve such type of prediction problems in machine learning, we need regression analysis\n",
    "s.\n",
    "\n",
    "In regression analysis, a graph is plotted between variables to find the line or curve that best fits the given data points. This plot allows the machine learning model to make predictions about the data. In simple terms, \"Regression shows a line or curve that passes through all the data points on a target-predictor graph in such a way that the vertical distance between the data points and the regression line is minimized.\" The distance between data points and the regression line indicates how well the model has captured the relationship between the variables.\n",
    "\n",
    "### Examples of Regression\n",
    "\n",
    "- **Prediction of Rainfall**: Using temperature and other factors to predict the likelihood of rain.\n",
    "- **Market Trend Analysis**: Determining trends in stock markets based on historical data.\n",
    "- **Accident Prediction**: Predicting the likelihood of road accidents due to rash driving.\n",
    "\n",
    "### Terminologies Related to Regression Analysis\n",
    "\n",
    "- **Dependent Variable**: The main factor in regression analysis that we want to predict or understand. It is also known as the target variable.\n",
    "  \n",
    "- **Independent Variable**: The factors that affect the dependent variable or are used to predict its values. These are also known as predictor variables.\n",
    "  \n",
    "- **Outliers**: Observations with values significantly higher or lower than the rest of the data. Outliers can distort the results of the analysis, so they should be carefully handled.\n",
    "  \n",
    "- **Multicollinearity**: A situation where independent variables are highly correlated with each other. Multicollinearity can cause issues in determining the importance of each predictor variable and should be minimized.\n",
    "  \n",
    "- **Underfitting and Overfitting**:\n",
    "  - **Overfitting** occurs when the model performs well on the training data but poorly on unseen data, indicating that the model has learned noise rather than the underlying pattern.\n",
    "  - **Underfitting** occurs when the model fails to capture the underlying pattern in the data, performing poorly even on the training data.\n",
    "\n",
    "By understanding and addressing these concepts, one can build a more accurate and reliable regression model.\n",
    "."
   ]
  },
  {
   "cell_type": "code",
   "execution_count": null,
   "id": "9b508a56-9cf7-428f-b64a-f9f10c30786f",
   "metadata": {
    "id": "9b508a56-9cf7-428f-b64a-f9f10c30786f"
   },
   "outputs": [],
   "source": []
  },
  {
   "cell_type": "markdown",
   "id": "db506a15-9cce-4ad9-9529-4ca1889727eb",
   "metadata": {
    "id": "db506a15-9cce-4ad9-9529-4ca1889727eb"
   },
   "source": [
    "# Linear Regression"
   ]
  },
  {
   "cell_type": "markdown",
   "id": "fd0ef783-9cce-4308-a9a5-4609ab6aa896",
   "metadata": {
    "id": "fd0ef783-9cce-4308-a9a5-4609ab6aa896"
   },
   "source": [
    "**Linear Regression** is a statistical method used to determine the relationship between a dependent variable and one or more independent variables. In machine learning, this relationship helps predict an event's outcome based on the data points of the independent variables.\n",
    ")\n",
    "\n",
    "**Objective:** The primary goal of Linear Regression is to establish a relationship that can predict the value of a dependent variable (also called the target variable) based on the independent variables (also called features or predictor). The relation is usually a straight line that best fits the different data points as close as possible. The output is of a continuous form, i.e., numerical value\n",
    "The linear regression model provides a sloped straight line representing the relationship between the variables. Consider the below image:\n",
    "![image](https://github.com/user-attachments/assets/45579101-de0f-4d4a-a305-ef49992b5f46)\n",
    ".\n",
    "\n",
    "The line can be expressed using the equation:\n",
    "$$𝑦 = mX + b$$\n",
    "where:\n",
    "- $y - \\text{is the dependent variable (the value to be predicted),}$\n",
    "- $X - \\text{is the independent variable (the predictor),}$\n",
    "- $m - \\text{is the slope of the line (indicating the relationship strength),}$\n",
    "- $b - \\text{is the y-intercept (the value of $y$ when $X$ is zero).}$`"
   ]
  },
  {
   "cell_type": "markdown",
   "id": "abf3fe0b-a8e8-49f0-b6cb-eca46960ac69",
   "metadata": {
    "id": "abf3fe0b-a8e8-49f0-b6cb-eca46960ac69"
   },
   "source": [
    "## Types of Linear Regression\n",
    "\n",
    "Linear regression can be further divided into two types of algorithms:\n",
    "\n",
    "#### 1. Simple Linear Regression\n",
    "\n",
    "Simple Linear Regression is used when there is only one independent variable to predict the value of a numerical dependent variable. The relationship between the independent variable (predictor) and the dependent variable (target) is modeled as a straight line.\n",
    "\n",
    "#### 2. Multiple Linear Regression\n",
    "\n",
    "Multiple Linear Regression is used when more than one independent variable is involved in predicting the value of a numerical dependent variable. This algorithm models the relationship between multiple predictors and a single target variable as a linear equation.\n"
   ]
  },
  {
   "cell_type": "markdown",
   "id": "0dc5eb83-edc9-48f0-9ffb-015ef5ef53f2",
   "metadata": {
    "id": "0dc5eb83-edc9-48f0-9ffb-015ef5ef53f2"
   },
   "source": [
    "# Simple Linear Regression"
   ]
  },
  {
   "cell_type": "code",
   "execution_count": 191,
   "id": "ff6410ef-ffd3-4ecc-a8c3-4dbd9245eaba",
   "metadata": {
    "id": "ff6410ef-ffd3-4ecc-a8c3-4dbd9245eaba"
   },
   "outputs": [],
   "source": [
    "# import libraries\n",
    "import pandas as pd\n",
    "import matplotlib.pyplot as plt\n",
    "import seaborn as sns"
   ]
  },
  {
   "cell_type": "code",
   "execution_count": 193,
   "id": "1e845fe6-1bd6-4ca1-a9a5-9f20b7c30004",
   "metadata": {
    "id": "1e845fe6-1bd6-4ca1-a9a5-9f20b7c30004",
    "outputId": "f4931a75-4485-456f-bec9-35c4d1930698"
   },
   "outputs": [
    {
     "data": {
      "text/html": [
       "<div>\n",
       "<style scoped>\n",
       "    .dataframe tbody tr th:only-of-type {\n",
       "        vertical-align: middle;\n",
       "    }\n",
       "\n",
       "    .dataframe tbody tr th {\n",
       "        vertical-align: top;\n",
       "    }\n",
       "\n",
       "    .dataframe thead th {\n",
       "        text-align: right;\n",
       "    }\n",
       "</style>\n",
       "<table border=\"1\" class=\"dataframe\">\n",
       "  <thead>\n",
       "    <tr style=\"text-align: right;\">\n",
       "      <th></th>\n",
       "      <th>size</th>\n",
       "      <th>price</th>\n",
       "    </tr>\n",
       "  </thead>\n",
       "  <tbody>\n",
       "    <tr>\n",
       "      <th>0</th>\n",
       "      <td>643.09</td>\n",
       "      <td>234314.144</td>\n",
       "    </tr>\n",
       "    <tr>\n",
       "      <th>1</th>\n",
       "      <td>656.22</td>\n",
       "      <td>228581.528</td>\n",
       "    </tr>\n",
       "    <tr>\n",
       "      <th>2</th>\n",
       "      <td>487.29</td>\n",
       "      <td>281626.336</td>\n",
       "    </tr>\n",
       "    <tr>\n",
       "      <th>3</th>\n",
       "      <td>1504.75</td>\n",
       "      <td>401255.608</td>\n",
       "    </tr>\n",
       "    <tr>\n",
       "      <th>4</th>\n",
       "      <td>1275.46</td>\n",
       "      <td>458674.256</td>\n",
       "    </tr>\n",
       "  </tbody>\n",
       "</table>\n",
       "</div>"
      ],
      "text/plain": [
       "      size       price\n",
       "0   643.09  234314.144\n",
       "1   656.22  228581.528\n",
       "2   487.29  281626.336\n",
       "3  1504.75  401255.608\n",
       "4  1275.46  458674.256"
      ]
     },
     "execution_count": 193,
     "metadata": {},
     "output_type": "execute_result"
    }
   ],
   "source": [
    "df = pd.read_csv('real_estate_price_size.csv')\n",
    "df.head()"
   ]
  },
  {
   "cell_type": "code",
   "execution_count": 195,
   "id": "fbe28787-6549-4530-b69b-108e24cb8269",
   "metadata": {
    "id": "fbe28787-6549-4530-b69b-108e24cb8269",
    "outputId": "1b3eee30-7eb7-42bc-a330-e8a7824c380d"
   },
   "outputs": [
    {
     "data": {
      "text/html": [
       "<div>\n",
       "<style scoped>\n",
       "    .dataframe tbody tr th:only-of-type {\n",
       "        vertical-align: middle;\n",
       "    }\n",
       "\n",
       "    .dataframe tbody tr th {\n",
       "        vertical-align: top;\n",
       "    }\n",
       "\n",
       "    .dataframe thead th {\n",
       "        text-align: right;\n",
       "    }\n",
       "</style>\n",
       "<table border=\"1\" class=\"dataframe\">\n",
       "  <thead>\n",
       "    <tr style=\"text-align: right;\">\n",
       "      <th></th>\n",
       "      <th>size</th>\n",
       "      <th>price</th>\n",
       "    </tr>\n",
       "  </thead>\n",
       "  <tbody>\n",
       "    <tr>\n",
       "      <th>88</th>\n",
       "      <td>601.66</td>\n",
       "      <td>211904.536</td>\n",
       "    </tr>\n",
       "  </tbody>\n",
       "</table>\n",
       "</div>"
      ],
      "text/plain": [
       "      size       price\n",
       "88  601.66  211904.536"
      ]
     },
     "execution_count": 195,
     "metadata": {},
     "output_type": "execute_result"
    }
   ],
   "source": [
    "df[df['size'] == 601.66]"
   ]
  },
  {
   "cell_type": "code",
   "execution_count": 197,
   "id": "fa36325a-8a9a-44ac-b270-6a041a271c64",
   "metadata": {
    "id": "fa36325a-8a9a-44ac-b270-6a041a271c64",
    "outputId": "4e945dbf-bd92-44c4-b7c5-ba6d0f474c03"
   },
   "outputs": [
    {
     "data": {
      "text/plain": [
       "(100, 2)"
      ]
     },
     "execution_count": 197,
     "metadata": {},
     "output_type": "execute_result"
    }
   ],
   "source": [
    "df.shape"
   ]
  },
  {
   "cell_type": "markdown",
   "id": "9314d3c6-74ce-4b98-9c1b-7382bb8bf027",
   "metadata": {
    "id": "9314d3c6-74ce-4b98-9c1b-7382bb8bf027"
   },
   "source": [
    "### How to find the `Slope` and `Intercept` that fit our data points\n",
    "When working with linear regression, our main goal is to find the best fit line that means the error between predicted values and actual values should be minimized. The best fit line will have the least error."
   ]
  },
  {
   "cell_type": "markdown",
   "id": "9f0c7fef-b75e-4c30-8324-74d1940baae4",
   "metadata": {
    "id": "9f0c7fef-b75e-4c30-8324-74d1940baae4"
   },
   "source": [
    "We need to extract the dependent and independent variables from the given dataset. The independent variable is size, and the dependent variable is price. Below is the code for it:"
   ]
  },
  {
   "cell_type": "code",
   "execution_count": 201,
   "id": "8e5112a3-b669-4ab4-b67f-5e0d7e1705e6",
   "metadata": {
    "id": "8e5112a3-b669-4ab4-b67f-5e0d7e1705e6",
    "outputId": "9c487286-210a-456d-d94a-72cb8c64f3ba"
   },
   "outputs": [
    {
     "data": {
      "image/png": "[encoded data removed]",
      "text/plain": [
       "<Figure size 700x400 with 1 Axes>"
      ]
     },
     "metadata": {},
     "output_type": "display_data"
    }
   ],
   "source": [
    "plt.figure(figsize=(7,4))\n",
    "plt.scatter(x='size', y='price', data=df)\n",
    "plt.xlabel('Size')\n",
    "plt.ylabel('Price')\n",
    "plt.title('Relationship between Price and Size')\n",
    "plt.show()"
   ]
  },
  {
   "cell_type": "code",
   "execution_count": 203,
   "id": "f5b91f3a-9080-4f0c-a51c-a09a64768503",
   "metadata": {
    "id": "f5b91f3a-9080-4f0c-a51c-a09a64768503",
    "outputId": "8df35ae4-b06a-42b7-af44-655562ca0858"
   },
   "outputs": [
    {
     "data": {
      "text/html": [
       "<div>\n",
       "<style scoped>\n",
       "    .dataframe tbody tr th:only-of-type {\n",
       "        vertical-align: middle;\n",
       "    }\n",
       "\n",
       "    .dataframe tbody tr th {\n",
       "        vertical-align: top;\n",
       "    }\n",
       "\n",
       "    .dataframe thead th {\n",
       "        text-align: right;\n",
       "    }\n",
       "</style>\n",
       "<table border=\"1\" class=\"dataframe\">\n",
       "  <thead>\n",
       "    <tr style=\"text-align: right;\">\n",
       "      <th></th>\n",
       "      <th>size</th>\n",
       "      <th>price</th>\n",
       "    </tr>\n",
       "  </thead>\n",
       "  <tbody>\n",
       "    <tr>\n",
       "      <th>size</th>\n",
       "      <td>1.000000</td>\n",
       "      <td>0.862983</td>\n",
       "    </tr>\n",
       "    <tr>\n",
       "      <th>price</th>\n",
       "      <td>0.862983</td>\n",
       "      <td>1.000000</td>\n",
       "    </tr>\n",
       "  </tbody>\n",
       "</table>\n",
       "</div>"
      ],
      "text/plain": [
       "           size     price\n",
       "size   1.000000  0.862983\n",
       "price  0.862983  1.000000"
      ]
     },
     "execution_count": 203,
     "metadata": {},
     "output_type": "execute_result"
    }
   ],
   "source": [
    "df.corr()"
   ]
  },
  {
   "cell_type": "code",
   "execution_count": 205,
   "id": "f75d4259-ca3e-442f-85ae-17752343caef",
   "metadata": {
    "id": "f75d4259-ca3e-442f-85ae-17752343caef"
   },
   "outputs": [],
   "source": [
    "# split into features and target variable\n",
    "\n",
    "X = df.iloc[:, :-1].values\n",
    "y = df.iloc[:, 1].values"
   ]
  },
  {
   "cell_type": "code",
   "execution_count": 207,
   "id": "fe7adff3-3ee0-4a5d-b214-395043f862ab",
   "metadata": {
    "id": "fe7adff3-3ee0-4a5d-b214-395043f862ab"
   },
   "outputs": [],
   "source": [
    "# split into train and test data\n",
    "from sklearn.model_selection import train_test_split"
   ]
  },
  {
   "cell_type": "code",
   "execution_count": 209,
   "id": "81f6bb32-233b-400e-badf-90c18589114c",
   "metadata": {
    "id": "81f6bb32-233b-400e-badf-90c18589114c"
   },
   "outputs": [],
   "source": [
    "train_inputs, test_input, train_targets, test_target = train_test_split(X, y, test_size= 0.2, random_state=42)"
   ]
  },
  {
   "cell_type": "code",
   "execution_count": 211,
   "id": "059f8edf-f7b0-40ca-8871-bb3627cca7d0",
   "metadata": {
    "id": "059f8edf-f7b0-40ca-8871-bb3627cca7d0",
    "outputId": "f481efd8-2f83-4218-d1b3-0683d7883739"
   },
   "outputs": [
    {
     "data": {
      "text/plain": [
       "(80, 1)"
      ]
     },
     "execution_count": 211,
     "metadata": {},
     "output_type": "execute_result"
    }
   ],
   "source": [
    "train_inputs.shape"
   ]
  },
  {
   "cell_type": "markdown",
   "id": "a5be8157-7247-4c89-b27b-c2b1d48abbea",
   "metadata": {
    "id": "a5be8157-7247-4c89-b27b-c2b1d48abbea"
   },
   "source": [
    "**Step-2: Fitting the Simple Linear Regression to the Training Set:**\n",
    "\n",
    "Now the second step is to fit our model to the training dataset. To do so, we will import the LinearRegression class of the linear_model library from the scikit learn. After importing the class, we are going to create an object of the class named as a regressor. The code for this is given below:\n",
    "\n"
   ]
  },
  {
   "cell_type": "code",
   "execution_count": 214,
   "id": "29216db5-5a70-4fb3-88e2-44ff20511918",
   "metadata": {
    "id": "29216db5-5a70-4fb3-88e2-44ff20511918"
   },
   "outputs": [],
   "source": [
    "from sklearn.linear_model import LinearRegression"
   ]
  },
  {
   "cell_type": "code",
   "execution_count": 216,
   "id": "8a14f393-99f5-4726-a873-70717164c876",
   "metadata": {
    "id": "8a14f393-99f5-4726-a873-70717164c876"
   },
   "outputs": [],
   "source": [
    "model = LinearRegression()"
   ]
  },
  {
   "cell_type": "code",
   "execution_count": 218,
   "id": "99424424-e838-40d6-9432-99f0b1d057ec",
   "metadata": {
    "id": "99424424-e838-40d6-9432-99f0b1d057ec",
    "outputId": "5eddf729-ee29-45ef-813d-6868a18e184d"
   },
   "outputs": [
    {
     "data": {
      "text/html": [
       "<style>#sk-container-id-3 {\n",
       "  /* Definition of color scheme common for light and dark mode */\n",
       "  --sklearn-color-text: black;\n",
       "  --sklearn-color-line: gray;\n",
       "  /* Definition of color scheme for unfitted estimators */\n",
       "  --sklearn-color-unfitted-level-0: #fff5e6;\n",
       "  --sklearn-color-unfitted-level-1: #f6e4d2;\n",
       "  --sklearn-color-unfitted-level-2: #ffe0b3;\n",
       "  --sklearn-color-unfitted-level-3: chocolate;\n",
       "  /* Definition of color scheme for fitted estimators */\n",
       "  --sklearn-color-fitted-level-0: #f0f8ff;\n",
       "  --sklearn-color-fitted-level-1: #d4ebff;\n",
       "  --sklearn-color-fitted-level-2: #b3dbfd;\n",
       "  --sklearn-color-fitted-level-3: cornflowerblue;\n",
       "\n",
       "  /* Specific color for light theme */\n",
       "  --sklearn-color-text-on-default-background: var(--sg-text-color, var(--theme-code-foreground, var(--jp-content-font-color1, black)));\n",
       "  --sklearn-color-background: var(--sg-background-color, var(--theme-background, var(--jp-layout-color0, white)));\n",
       "  --sklearn-color-border-box: var(--sg-text-color, var(--theme-code-foreground, var(--jp-content-font-color1, black)));\n",
       "  --sklearn-color-icon: #696969;\n",
       "\n",
       "  @media (prefers-color-scheme: dark) {\n",
       "    /* Redefinition of color scheme for dark theme */\n",
       "    --sklearn-color-text-on-default-background: var(--sg-text-color, var(--theme-code-foreground, var(--jp-content-font-color1, white)));\n",
       "    --sklearn-color-background: var(--sg-background-color, var(--theme-background, var(--jp-layout-color0, #111)));\n",
       "    --sklearn-color-border-box: var(--sg-text-color, var(--theme-code-foreground, var(--jp-content-font-color1, white)));\n",
       "    --sklearn-color-icon: #878787;\n",
       "  }\n",
       "}\n",
       "\n",
       "#sk-container-id-3 {\n",
       "  color: var(--sklearn-color-text);\n",
       "}\n",
       "\n",
       "#sk-container-id-3 pre {\n",
       "  padding: 0;\n",
       "}\n",
       "\n",
       "#sk-container-id-3 input.sk-hidden--visually {\n",
       "  border: 0;\n",
       "  clip: rect(1px 1px 1px 1px);\n",
       "  clip: rect(1px, 1px, 1px, 1px);\n",
       "  height: 1px;\n",
       "  margin: -1px;\n",
       "  overflow: hidden;\n",
       "  padding: 0;\n",
       "  position: absolute;\n",
       "  width: 1px;\n",
       "}\n",
       "\n",
       "#sk-container-id-3 div.sk-dashed-wrapped {\n",
       "  border: 1px dashed var(--sklearn-color-line);\n",
       "  margin: 0 0.4em 0.5em 0.4em;\n",
       "  box-sizing: border-box;\n",
       "  padding-bottom: 0.4em;\n",
       "  background-color: var(--sklearn-color-background);\n",
       "}\n",
       "\n",
       "#sk-container-id-3 div.sk-container {\n",
       "  /* jupyter's `normalize.less` sets `[hidden] { display: none; }`\n",
       "     but bootstrap.min.css set `[hidden] { display: none !important; }`\n",
       "     so we also need the `!important` here to be able to override the\n",
       "     default hidden behavior on the sphinx rendered scikit-learn.org.\n",
       "     See: https://github.com/scikit-learn/scikit-learn/issues/21755 */\n",
       "  display: inline-block !important;\n",
       "  position: relative;\n",
       "}\n",
       "\n",
       "#sk-container-id-3 div.sk-text-repr-fallback {\n",
       "  display: none;\n",
       "}\n",
       "\n",
       "div.sk-parallel-item,\n",
       "div.sk-serial,\n",
       "div.sk-item {\n",
       "  /* draw centered vertical line to link estimators */\n",
       "  background-image: linear-gradient(var(--sklearn-color-text-on-default-background), var(--sklearn-color-text-on-default-background));\n",
       "  background-size: 2px 100%;\n",
       "  background-repeat: no-repeat;\n",
       "  background-position: center center;\n",
       "}\n",
       "\n",
       "/* Parallel-specific style estimator block */\n",
       "\n",
       "#sk-container-id-3 div.sk-parallel-item::after {\n",
       "  content: \"\";\n",
       "  width: 100%;\n",
       "  border-bottom: 2px solid var(--sklearn-color-text-on-default-background);\n",
       "  flex-grow: 1;\n",
       "}\n",
       "\n",
       "#sk-container-id-3 div.sk-parallel {\n",
       "  display: flex;\n",
       "  align-items: stretch;\n",
       "  justify-content: center;\n",
       "  background-color: var(--sklearn-color-background);\n",
       "  position: relative;\n",
       "}\n",
       "\n",
       "#sk-container-id-3 div.sk-parallel-item {\n",
       "  display: flex;\n",
       "  flex-direction: column;\n",
       "}\n",
       "\n",
       "#sk-container-id-3 div.sk-parallel-item:first-child::after {\n",
       "  align-self: flex-end;\n",
       "  width: 50%;\n",
       "}\n",
       "\n",
       "#sk-container-id-3 div.sk-parallel-item:last-child::after {\n",
       "  align-self: flex-start;\n",
       "  width: 50%;\n",
       "}\n",
       "\n",
       "#sk-container-id-3 div.sk-parallel-item:only-child::after {\n",
       "  width: 0;\n",
       "}\n",
       "\n",
       "/* Serial-specific style estimator block */\n",
       "\n",
       "#sk-container-id-3 div.sk-serial {\n",
       "  display: flex;\n",
       "  flex-direction: column;\n",
       "  align-items: center;\n",
       "  background-color: var(--sklearn-color-background);\n",
       "  padding-right: 1em;\n",
       "  padding-left: 1em;\n",
       "}\n",
       "\n",
       "\n",
       "/* Toggleable style: style used for estimator/Pipeline/ColumnTransformer box that is\n",
       "clickable and can be expanded/collapsed.\n",
       "- Pipeline and ColumnTransformer use this feature and define the default style\n",
       "- Estimators will overwrite some part of the style using the `sk-estimator` class\n",
       "*/\n",
       "\n",
       "/* Pipeline and ColumnTransformer style (default) */\n",
       "\n",
       "#sk-container-id-3 div.sk-toggleable {\n",
       "  /* Default theme specific background. It is overwritten whether we have a\n",
       "  specific estimator or a Pipeline/ColumnTransformer */\n",
       "  background-color: var(--sklearn-color-background);\n",
       "}\n",
       "\n",
       "/* Toggleable label */\n",
       "#sk-container-id-3 label.sk-toggleable__label {\n",
       "  cursor: pointer;\n",
       "  display: block;\n",
       "  width: 100%;\n",
       "  margin-bottom: 0;\n",
       "  padding: 0.5em;\n",
       "  box-sizing: border-box;\n",
       "  text-align: center;\n",
       "}\n",
       "\n",
       "#sk-container-id-3 label.sk-toggleable__label-arrow:before {\n",
       "  /* Arrow on the left of the label */\n",
       "  content: \"▸\";\n",
       "  float: left;\n",
       "  margin-right: 0.25em;\n",
       "  color: var(--sklearn-color-icon);\n",
       "}\n",
       "\n",
       "#sk-container-id-3 label.sk-toggleable__label-arrow:hover:before {\n",
       "  color: var(--sklearn-color-text);\n",
       "}\n",
       "\n",
       "/* Toggleable content - dropdown */\n",
       "\n",
       "#sk-container-id-3 div.sk-toggleable__content {\n",
       "  max-height: 0;\n",
       "  max-width: 0;\n",
       "  overflow: hidden;\n",
       "  text-align: left;\n",
       "  /* unfitted */\n",
       "  background-color: var(--sklearn-color-unfitted-level-0);\n",
       "}\n",
       "\n",
       "#sk-container-id-3 div.sk-toggleable__content.fitted {\n",
       "  /* fitted */\n",
       "  background-color: var(--sklearn-color-fitted-level-0);\n",
       "}\n",
       "\n",
       "#sk-container-id-3 div.sk-toggleable__content pre {\n",
       "  margin: 0.2em;\n",
       "  border-radius: 0.25em;\n",
       "  color: var(--sklearn-color-text);\n",
       "  /* unfitted */\n",
       "  background-color: var(--sklearn-color-unfitted-level-0);\n",
       "}\n",
       "\n",
       "#sk-container-id-3 div.sk-toggleable__content.fitted pre {\n",
       "  /* unfitted */\n",
       "  background-color: var(--sklearn-color-fitted-level-0);\n",
       "}\n",
       "\n",
       "#sk-container-id-3 input.sk-toggleable__control:checked~div.sk-toggleable__content {\n",
       "  /* Expand drop-down */\n",
       "  max-height: 200px;\n",
       "  max-width: 100%;\n",
       "  overflow: auto;\n",
       "}\n",
       "\n",
       "#sk-container-id-3 input.sk-toggleable__control:checked~label.sk-toggleable__label-arrow:before {\n",
       "  content: \"▾\";\n",
       "}\n",
       "\n",
       "/* Pipeline/ColumnTransformer-specific style */\n",
       "\n",
       "#sk-container-id-3 div.sk-label input.sk-toggleable__control:checked~label.sk-toggleable__label {\n",
       "  color: var(--sklearn-color-text);\n",
       "  background-color: var(--sklearn-color-unfitted-level-2);\n",
       "}\n",
       "\n",
       "#sk-container-id-3 div.sk-label.fitted input.sk-toggleable__control:checked~label.sk-toggleable__label {\n",
       "  background-color: var(--sklearn-color-fitted-level-2);\n",
       "}\n",
       "\n",
       "/* Estimator-specific style */\n",
       "\n",
       "/* Colorize estimator box */\n",
       "#sk-container-id-3 div.sk-estimator input.sk-toggleable__control:checked~label.sk-toggleable__label {\n",
       "  /* unfitted */\n",
       "  background-color: var(--sklearn-color-unfitted-level-2);\n",
       "}\n",
       "\n",
       "#sk-container-id-3 div.sk-estimator.fitted input.sk-toggleable__control:checked~label.sk-toggleable__label {\n",
       "  /* fitted */\n",
       "  background-color: var(--sklearn-color-fitted-level-2);\n",
       "}\n",
       "\n",
       "#sk-container-id-3 div.sk-label label.sk-toggleable__label,\n",
       "#sk-container-id-3 div.sk-label label {\n",
       "  /* The background is the default theme color */\n",
       "  color: var(--sklearn-color-text-on-default-background);\n",
       "}\n",
       "\n",
       "/* On hover, darken the color of the background */\n",
       "#sk-container-id-3 div.sk-label:hover label.sk-toggleable__label {\n",
       "  color: var(--sklearn-color-text);\n",
       "  background-color: var(--sklearn-color-unfitted-level-2);\n",
       "}\n",
       "\n",
       "/* Label box, darken color on hover, fitted */\n",
       "#sk-container-id-3 div.sk-label.fitted:hover label.sk-toggleable__label.fitted {\n",
       "  color: var(--sklearn-color-text);\n",
       "  background-color: var(--sklearn-color-fitted-level-2);\n",
       "}\n",
       "\n",
       "/* Estimator label */\n",
       "\n",
       "#sk-container-id-3 div.sk-label label {\n",
       "  font-family: monospace;\n",
       "  font-weight: bold;\n",
       "  display: inline-block;\n",
       "  line-height: 1.2em;\n",
       "}\n",
       "\n",
       "#sk-container-id-3 div.sk-label-container {\n",
       "  text-align: center;\n",
       "}\n",
       "\n",
       "/* Estimator-specific */\n",
       "#sk-container-id-3 div.sk-estimator {\n",
       "  font-family: monospace;\n",
       "  border: 1px dotted var(--sklearn-color-border-box);\n",
       "  border-radius: 0.25em;\n",
       "  box-sizing: border-box;\n",
       "  margin-bottom: 0.5em;\n",
       "  /* unfitted */\n",
       "  background-color: var(--sklearn-color-unfitted-level-0);\n",
       "}\n",
       "\n",
       "#sk-container-id-3 div.sk-estimator.fitted {\n",
       "  /* fitted */\n",
       "  background-color: var(--sklearn-color-fitted-level-0);\n",
       "}\n",
       "\n",
       "/* on hover */\n",
       "#sk-container-id-3 div.sk-estimator:hover {\n",
       "  /* unfitted */\n",
       "  background-color: var(--sklearn-color-unfitted-level-2);\n",
       "}\n",
       "\n",
       "#sk-container-id-3 div.sk-estimator.fitted:hover {\n",
       "  /* fitted */\n",
       "  background-color: var(--sklearn-color-fitted-level-2);\n",
       "}\n",
       "\n",
       "/* Specification for estimator info (e.g. \"i\" and \"?\") */\n",
       "\n",
       "/* Common style for \"i\" and \"?\" */\n",
       "\n",
       ".sk-estimator-doc-link,\n",
       "a:link.sk-estimator-doc-link,\n",
       "a:visited.sk-estimator-doc-link {\n",
       "  float: right;\n",
       "  font-size: smaller;\n",
       "  line-height: 1em;\n",
       "  font-family: monospace;\n",
       "  background-color: var(--sklearn-color-background);\n",
       "  border-radius: 1em;\n",
       "  height: 1em;\n",
       "  width: 1em;\n",
       "  text-decoration: none !important;\n",
       "  margin-left: 1ex;\n",
       "  /* unfitted */\n",
       "  border: var(--sklearn-color-unfitted-level-1) 1pt solid;\n",
       "  color: var(--sklearn-color-unfitted-level-1);\n",
       "}\n",
       "\n",
       ".sk-estimator-doc-link.fitted,\n",
       "a:link.sk-estimator-doc-link.fitted,\n",
       "a:visited.sk-estimator-doc-link.fitted {\n",
       "  /* fitted */\n",
       "  border: var(--sklearn-color-fitted-level-1) 1pt solid;\n",
       "  color: var(--sklearn-color-fitted-level-1);\n",
       "}\n",
       "\n",
       "/* On hover */\n",
       "div.sk-estimator:hover .sk-estimator-doc-link:hover,\n",
       ".sk-estimator-doc-link:hover,\n",
       "div.sk-label-container:hover .sk-estimator-doc-link:hover,\n",
       ".sk-estimator-doc-link:hover {\n",
       "  /* unfitted */\n",
       "  background-color: var(--sklearn-color-unfitted-level-3);\n",
       "  color: var(--sklearn-color-background);\n",
       "  text-decoration: none;\n",
       "}\n",
       "\n",
       "div.sk-estimator.fitted:hover .sk-estimator-doc-link.fitted:hover,\n",
       ".sk-estimator-doc-link.fitted:hover,\n",
       "div.sk-label-container:hover .sk-estimator-doc-link.fitted:hover,\n",
       ".sk-estimator-doc-link.fitted:hover {\n",
       "  /* fitted */\n",
       "  background-color: var(--sklearn-color-fitted-level-3);\n",
       "  color: var(--sklearn-color-background);\n",
       "  text-decoration: none;\n",
       "}\n",
       "\n",
       "/* Span, style for the box shown on hovering the info icon */\n",
       ".sk-estimator-doc-link span {\n",
       "  display: none;\n",
       "  z-index: 9999;\n",
       "  position: relative;\n",
       "  font-weight: normal;\n",
       "  right: .2ex;\n",
       "  padding: .5ex;\n",
       "  margin: .5ex;\n",
       "  width: min-content;\n",
       "  min-width: 20ex;\n",
       "  max-width: 50ex;\n",
       "  color: var(--sklearn-color-text);\n",
       "  box-shadow: 2pt 2pt 4pt #999;\n",
       "  /* unfitted */\n",
       "  background: var(--sklearn-color-unfitted-level-0);\n",
       "  border: .5pt solid var(--sklearn-color-unfitted-level-3);\n",
       "}\n",
       "\n",
       ".sk-estimator-doc-link.fitted span {\n",
       "  /* fitted */\n",
       "  background: var(--sklearn-color-fitted-level-0);\n",
       "  border: var(--sklearn-color-fitted-level-3);\n",
       "}\n",
       "\n",
       ".sk-estimator-doc-link:hover span {\n",
       "  display: block;\n",
       "}\n",
       "\n",
       "/* \"?\"-specific style due to the `<a>` HTML tag */\n",
       "\n",
       "#sk-container-id-3 a.estimator_doc_link {\n",
       "  float: right;\n",
       "  font-size: 1rem;\n",
       "  line-height: 1em;\n",
       "  font-family: monospace;\n",
       "  background-color: var(--sklearn-color-background);\n",
       "  border-radius: 1rem;\n",
       "  height: 1rem;\n",
       "  width: 1rem;\n",
       "  text-decoration: none;\n",
       "  /* unfitted */\n",
       "  color: var(--sklearn-color-unfitted-level-1);\n",
       "  border: var(--sklearn-color-unfitted-level-1) 1pt solid;\n",
       "}\n",
       "\n",
       "#sk-container-id-3 a.estimator_doc_link.fitted {\n",
       "  /* fitted */\n",
       "  border: var(--sklearn-color-fitted-level-1) 1pt solid;\n",
       "  color: var(--sklearn-color-fitted-level-1);\n",
       "}\n",
       "\n",
       "/* On hover */\n",
       "#sk-container-id-3 a.estimator_doc_link:hover {\n",
       "  /* unfitted */\n",
       "  background-color: var(--sklearn-color-unfitted-level-3);\n",
       "  color: var(--sklearn-color-background);\n",
       "  text-decoration: none;\n",
       "}\n",
       "\n",
       "#sk-container-id-3 a.estimator_doc_link.fitted:hover {\n",
       "  /* fitted */\n",
       "  background-color: var(--sklearn-color-fitted-level-3);\n",
       "}\n",
       "</style><div id=\"sk-container-id-3\" class=\"sk-top-container\"><div class=\"sk-text-repr-fallback\"><pre>LinearRegression()</pre><b>In a Jupyter environment, please rerun this cell to show the HTML representation or trust the notebook. <br />On GitHub, the HTML representation is unable to render, please try loading this page with nbviewer.org.</b></div><div class=\"sk-container\" hidden><div class=\"sk-item\"><div class=\"sk-estimator fitted sk-toggleable\"><input class=\"sk-toggleable__control sk-hidden--visually\" id=\"sk-estimator-id-3\" type=\"checkbox\" checked><label for=\"sk-estimator-id-3\" class=\"sk-toggleable__label fitted sk-toggleable__label-arrow fitted\">&nbsp;&nbsp;LinearRegression<a class=\"sk-estimator-doc-link fitted\" rel=\"noreferrer\" target=\"_blank\" href=\"https://scikit-learn.org/1.4/modules/generated/sklearn.linear_model.LinearRegression.html\">?<span>Documentation for LinearRegression</span></a><span class=\"sk-estimator-doc-link fitted\">i<span>Fitted</span></span></label><div class=\"sk-toggleable__content fitted\"><pre>LinearRegression()</pre></div> </div></div></div></div>"
      ],
      "text/plain": [
       "LinearRegression()"
      ]
     },
     "execution_count": 218,
     "metadata": {},
     "output_type": "execute_result"
    }
   ],
   "source": [
    "model.fit(train_inputs, train_targets)"
   ]
  },
  {
   "cell_type": "code",
   "execution_count": null,
   "id": "2ca12179-bc88-4d1c-9b09-ed75419f17b0",
   "metadata": {
    "id": "2ca12179-bc88-4d1c-9b09-ed75419f17b0"
   },
   "outputs": [],
   "source": []
  },
  {
   "cell_type": "code",
   "execution_count": null,
   "id": "61590810-e0f2-4c47-8429-92860d9eb3a2",
   "metadata": {
    "id": "61590810-e0f2-4c47-8429-92860d9eb3a2"
   },
   "outputs": [],
   "source": []
  },
  {
   "cell_type": "markdown",
   "id": "48aec620-7f68-4683-92cc-431f63e094df",
   "metadata": {
    "id": "48aec620-7f68-4683-92cc-431f63e094df"
   },
   "source": [
    "**Step: 3. Prediction of test set result:**"
   ]
  },
  {
   "cell_type": "code",
   "execution_count": 223,
   "id": "5b775ed3-7ae6-4858-b767-ff2062bee645",
   "metadata": {
    "id": "5b775ed3-7ae6-4858-b767-ff2062bee645"
   },
   "outputs": [],
   "source": [
    "# training pred\n",
    "train_pred = model.predict(train_inputs)"
   ]
  },
  {
   "cell_type": "code",
   "execution_count": 225,
   "id": "621854c2-7ce7-4e68-b135-198d73bc3277",
   "metadata": {
    "id": "621854c2-7ce7-4e68-b135-198d73bc3277",
    "outputId": "ffde2f44-1936-41ae-b313-dcd3f4e00300"
   },
   "outputs": [
    {
     "data": {
      "text/plain": [
       "array([601.66])"
      ]
     },
     "execution_count": 225,
     "metadata": {},
     "output_type": "execute_result"
    }
   ],
   "source": [
    "train_inputs[1]"
   ]
  },
  {
   "cell_type": "code",
   "execution_count": 227,
   "id": "4fb2c6e8-8a2a-42c4-a1b5-04d94daedc31",
   "metadata": {
    "id": "4fb2c6e8-8a2a-42c4-a1b5-04d94daedc31",
    "outputId": "7f2093ed-c98c-4d1b-b73a-93c6eff51a92"
   },
   "outputs": [
    {
     "data": {
      "text/plain": [
       "240301.19741318133"
      ]
     },
     "execution_count": 227,
     "metadata": {},
     "output_type": "execute_result"
    }
   ],
   "source": [
    "train_pred[1]"
   ]
  },
  {
   "cell_type": "code",
   "execution_count": 29,
   "id": "2503d95d-b419-4310-9e2e-000682056b1b",
   "metadata": {
    "id": "2503d95d-b419-4310-9e2e-000682056b1b"
   },
   "outputs": [],
   "source": [
    "# test prediction\n",
    "test_pred = model.predict(test_input)"
   ]
  },
  {
   "cell_type": "markdown",
   "id": "09a5262d-7a36-4896-8d2c-7311bce05657",
   "metadata": {
    "id": "09a5262d-7a36-4896-8d2c-7311bce05657"
   },
   "source": [
    "**Step: 4. Visualizing the Training set results:**"
   ]
  },
  {
   "cell_type": "code",
   "execution_count": 31,
   "id": "e809ad72-8312-47e8-9c34-49804531bab7",
   "metadata": {
    "id": "e809ad72-8312-47e8-9c34-49804531bab7",
    "outputId": "7b8ca74e-8901-42d2-a58e-529a49af59f2"
   },
   "outputs": [
    {
     "data": {
      "image/png": "[encoded data removed]",
      "text/plain": [
       "<Figure size 700x400 with 1 Axes>"
      ]
     },
     "metadata": {},
     "output_type": "display_data"
    }
   ],
   "source": [
    "plt.figure(figsize=(7,4))\n",
    "plt.scatter(train_inputs, train_targets, color = 'green')\n",
    "plt.plot(train_inputs, train_pred, color = 'red')\n",
    "plt.xlabel('Size')\n",
    "plt.ylabel('Price')\n",
    "plt.title('Relationship between Price and Size')\n",
    "plt.show()"
   ]
  },
  {
   "cell_type": "code",
   "execution_count": 32,
   "id": "92dcc76c-82ae-4b59-9ebd-afb0cac9da7b",
   "metadata": {
    "id": "92dcc76c-82ae-4b59-9ebd-afb0cac9da7b",
    "outputId": "cde8fa3b-1708-4a31-b2c5-9353b852c6f7"
   },
   "outputs": [
    {
     "data": {
      "text/plain": [
       "108544.77013699998"
      ]
     },
     "execution_count": 32,
     "metadata": {},
     "output_type": "execute_result"
    }
   ],
   "source": [
    "model.intercept_"
   ]
  },
  {
   "cell_type": "code",
   "execution_count": 33,
   "id": "2acd773d-de56-4d96-b35e-e8d6f39f022d",
   "metadata": {
    "id": "2acd773d-de56-4d96-b35e-e8d6f39f022d",
    "outputId": "b360e3d9-0a1c-4baa-8bcd-f67469a1ea9e"
   },
   "outputs": [
    {
     "data": {
      "text/plain": [
       "array([218.98817817])"
      ]
     },
     "execution_count": 33,
     "metadata": {},
     "output_type": "execute_result"
    }
   ],
   "source": [
    "model.coef_"
   ]
  },
  {
   "cell_type": "markdown",
   "id": "d4eac60d-7d8b-43fc-b0ea-781c91068781",
   "metadata": {
    "id": "d4eac60d-7d8b-43fc-b0ea-781c91068781"
   },
   "source": [
    "y=mx+c"
   ]
  },
  {
   "cell_type": "code",
   "execution_count": 35,
   "id": "ab8e5a40-1890-4db1-87b5-4a55386e6e47",
   "metadata": {
    "id": "ab8e5a40-1890-4db1-87b5-4a55386e6e47",
    "outputId": "c04ef298-2484-462b-a0ad-d5032137e08d"
   },
   "outputs": [
    {
     "data": {
      "text/plain": [
       "array([240301.19741318])"
      ]
     },
     "execution_count": 35,
     "metadata": {},
     "output_type": "execute_result"
    }
   ],
   "source": [
    "model.coef_ * 601.66 + model.intercept_"
   ]
  },
  {
   "cell_type": "markdown",
   "id": "8c7807ca-068e-44ac-8998-70fb87bb7003",
   "metadata": {
    "id": "8c7807ca-068e-44ac-8998-70fb87bb7003"
   },
   "source": [
    "In the above plot, we can see the real values observations in green dots and predicted values are covered by the red regression line. The regression line shows a correlation between the dependent and independent variable.\n",
    "\n",
    "The good fit of the line can be observed by calculating the difference between actual values and predicted values. But as we can see in the above plot, most of the observations are close to the regression line, hence our model is good for the training set."
   ]
  },
  {
   "cell_type": "markdown",
   "id": "7f812e1d-6545-4af6-a09b-e0ea1d22a3ef",
   "metadata": {
    "id": "7f812e1d-6545-4af6-a09b-e0ea1d22a3ef"
   },
   "source": [
    "**Step: 5. visualizing the Test set results:**"
   ]
  },
  {
   "cell_type": "code",
   "execution_count": 38,
   "id": "d88b5a90-23c9-423f-bbc1-f8b9978127c4",
   "metadata": {
    "id": "d88b5a90-23c9-423f-bbc1-f8b9978127c4",
    "outputId": "b755cfcf-558b-4ad4-cc84-02ee1f14aa47"
   },
   "outputs": [
    {
     "data": {
      "image/png": "[encoded data removed]",
      "text/plain": [
       "<Figure size 700x400 with 1 Axes>"
      ]
     },
     "metadata": {},
     "output_type": "display_data"
    }
   ],
   "source": [
    "plt.figure(figsize=(7,4))\n",
    "plt.scatter(test_input, test_target, color = 'blue')\n",
    "plt.plot(test_input, test_pred, color = 'red')\n",
    "plt.xlabel('Size')\n",
    "plt.ylabel('Price')\n",
    "plt.title('Relationship between Price and Size')\n",
    "plt.show()"
   ]
  },
  {
   "cell_type": "markdown",
   "id": "3deaea31-79e9-46f7-8de3-20728275d87e",
   "metadata": {
    "id": "3deaea31-79e9-46f7-8de3-20728275d87e"
   },
   "source": [
    "In the above plot, there are observations given by the blue color, and prediction is given by the red regression line. As we can see, most of the observations are close to the regression line, hence we can say our Simple Linear Regression is a good model and able to make good predictions."
   ]
  },
  {
   "cell_type": "code",
   "execution_count": 40,
   "id": "e1f0eb89-02d8-4670-b1cf-bc00e9938089",
   "metadata": {
    "id": "e1f0eb89-02d8-4670-b1cf-bc00e9938089",
    "outputId": "b3ac816c-383a-4e12-8fd0-a4f35e9fae44"
   },
   "outputs": [
    {
     "data": {
      "text/plain": [
       "array([371330.58393785])"
      ]
     },
     "execution_count": 40,
     "metadata": {},
     "output_type": "execute_result"
    }
   ],
   "source": [
    "model.coef_ * 1200 + model.intercept_"
   ]
  },
  {
   "cell_type": "code",
   "execution_count": null,
   "id": "19ecfe3f-720b-4b31-932f-89d125f507f2",
   "metadata": {
    "id": "19ecfe3f-720b-4b31-932f-89d125f507f2"
   },
   "outputs": [],
   "source": []
  },
  {
   "cell_type": "markdown",
   "id": "d0c6a39a-f61c-4bbe-b084-01e2fea0eca4",
   "metadata": {
    "id": "d0c6a39a-f61c-4bbe-b084-01e2fea0eca4"
   },
   "source": [
    "# Multiple Linear Regression\n",
    "\n",
    "![](https://i.imgur.com/1EzyZvj.png)"
   ]
  },
  {
   "cell_type": "markdown",
   "id": "07ad02f8-e7f3-46fb-8f2c-92609d54a22d",
   "metadata": {
    "id": "07ad02f8-e7f3-46fb-8f2c-92609d54a22d"
   },
   "source": [
    "## 1. Problem Statement\n",
    "\n",
    "\n",
    "> **QUESTION**: ACME Insurance Inc. offers affordable health insurance to thousands of customers all over the United States. As the lead data scientist at ACME, **you're tasked with creating an automated system to estimate the annual medical expenditure for new customers**, using information such as their age, sex, BMI, children, smoking habits, and region of residence.\n",
    ">\n",
    "> Estimates from your system will be used to determine the annual insurance premium (amount paid every month) offered to the customer. Due to regulatory requirements, you must be able to explain why your system outputs a certain prediction.\n",
    ">\n",
    "> You're given a [CSV file](https://raw.githubusercontent.com/JovianML/opendatasets/master/data/medical-charges.csv) containing verified historical data, consisting of the aforementioned information and the actual medical charges incurred by over 1300 customers.\n",
    ">\n",
    "> <img src=\"https://i.imgur.com/87Uw0aG.png\" width=\"480\">\n",
    ">\n",
    "> Dataset source: https://github.com/stedy/Machine-Learning-with-R-datasets\n",
    "\n",
    "## 2. Data Collection\n",
    "\n",
    "To begin, let's download the data using the `urlretrieve` function from `urllib.request`.\n"
   ]
  },
  {
   "cell_type": "code",
   "execution_count": 270,
   "id": "b466e9f4-c3ba-4c03-b963-0c020ac347fc",
   "metadata": {
    "colab": {
     "base_uri": "https://localhost:8080/"
    },
    "id": "b466e9f4-c3ba-4c03-b963-0c020ac347fc",
    "outputId": "b92bd162-d11d-49c2-8fa9-0ff3daf37641"
   },
   "outputs": [
    {
     "ename": "URLError",
     "evalue": "<urlopen error [WinError 10060] A connection attempt failed because the connected party did not properly respond after a period of time, or established connection failed because connected host has failed to respond>",
     "output_type": "error",
     "traceback": [
      "\u001b[1;31m---------------------------------------------------------------------------\u001b[0m",
      "\u001b[1;31mTimeoutError\u001b[0m                              Traceback (most recent call last)",
      "File \u001b[1;32m~\\anaconda3\\Lib\\urllib\\request.py:1344\u001b[0m, in \u001b[0;36mAbstractHTTPHandler.do_open\u001b[1;34m(self, http_class, req, **http_conn_args)\u001b[0m\n\u001b[0;32m   1343\u001b[0m \u001b[38;5;28;01mtry\u001b[39;00m:\n\u001b[1;32m-> 1344\u001b[0m     h\u001b[38;5;241m.\u001b[39mrequest(req\u001b[38;5;241m.\u001b[39mget_method(), req\u001b[38;5;241m.\u001b[39mselector, req\u001b[38;5;241m.\u001b[39mdata, headers,\n\u001b[0;32m   1345\u001b[0m               encode_chunked\u001b[38;5;241m=\u001b[39mreq\u001b[38;5;241m.\u001b[39mhas_header(\u001b[38;5;124m'\u001b[39m\u001b[38;5;124mTransfer-encoding\u001b[39m\u001b[38;5;124m'\u001b[39m))\n\u001b[0;32m   1346\u001b[0m \u001b[38;5;28;01mexcept\u001b[39;00m \u001b[38;5;167;01mOSError\u001b[39;00m \u001b[38;5;28;01mas\u001b[39;00m err: \u001b[38;5;66;03m# timeout error\u001b[39;00m\n",
      "File \u001b[1;32m~\\anaconda3\\Lib\\http\\client.py:1336\u001b[0m, in \u001b[0;36mHTTPConnection.request\u001b[1;34m(self, method, url, body, headers, encode_chunked)\u001b[0m\n\u001b[0;32m   1335\u001b[0m \u001b[38;5;250m\u001b[39m\u001b[38;5;124;03m\"\"\"Send a complete request to the server.\"\"\"\u001b[39;00m\n\u001b[1;32m-> 1336\u001b[0m \u001b[38;5;28mself\u001b[39m\u001b[38;5;241m.\u001b[39m_send_request(method, url, body, headers, encode_chunked)\n",
      "File \u001b[1;32m~\\anaconda3\\Lib\\http\\client.py:1382\u001b[0m, in \u001b[0;36mHTTPConnection._send_request\u001b[1;34m(self, method, url, body, headers, encode_chunked)\u001b[0m\n\u001b[0;32m   1381\u001b[0m     body \u001b[38;5;241m=\u001b[39m _encode(body, \u001b[38;5;124m'\u001b[39m\u001b[38;5;124mbody\u001b[39m\u001b[38;5;124m'\u001b[39m)\n\u001b[1;32m-> 1382\u001b[0m \u001b[38;5;28mself\u001b[39m\u001b[38;5;241m.\u001b[39mendheaders(body, encode_chunked\u001b[38;5;241m=\u001b[39mencode_chunked)\n",
      "File \u001b[1;32m~\\anaconda3\\Lib\\http\\client.py:1331\u001b[0m, in \u001b[0;36mHTTPConnection.endheaders\u001b[1;34m(self, message_body, encode_chunked)\u001b[0m\n\u001b[0;32m   1330\u001b[0m     \u001b[38;5;28;01mraise\u001b[39;00m CannotSendHeader()\n\u001b[1;32m-> 1331\u001b[0m \u001b[38;5;28mself\u001b[39m\u001b[38;5;241m.\u001b[39m_send_output(message_body, encode_chunked\u001b[38;5;241m=\u001b[39mencode_chunked)\n",
      "File \u001b[1;32m~\\anaconda3\\Lib\\http\\client.py:1091\u001b[0m, in \u001b[0;36mHTTPConnection._send_output\u001b[1;34m(self, message_body, encode_chunked)\u001b[0m\n\u001b[0;32m   1090\u001b[0m \u001b[38;5;28;01mdel\u001b[39;00m \u001b[38;5;28mself\u001b[39m\u001b[38;5;241m.\u001b[39m_buffer[:]\n\u001b[1;32m-> 1091\u001b[0m \u001b[38;5;28mself\u001b[39m\u001b[38;5;241m.\u001b[39msend(msg)\n\u001b[0;32m   1093\u001b[0m \u001b[38;5;28;01mif\u001b[39;00m message_body \u001b[38;5;129;01mis\u001b[39;00m \u001b[38;5;129;01mnot\u001b[39;00m \u001b[38;5;28;01mNone\u001b[39;00m:\n\u001b[0;32m   1094\u001b[0m \n\u001b[0;32m   1095\u001b[0m     \u001b[38;5;66;03m# create a consistent interface to message_body\u001b[39;00m\n",
      "File \u001b[1;32m~\\anaconda3\\Lib\\http\\client.py:1035\u001b[0m, in \u001b[0;36mHTTPConnection.send\u001b[1;34m(self, data)\u001b[0m\n\u001b[0;32m   1034\u001b[0m \u001b[38;5;28;01mif\u001b[39;00m \u001b[38;5;28mself\u001b[39m\u001b[38;5;241m.\u001b[39mauto_open:\n\u001b[1;32m-> 1035\u001b[0m     \u001b[38;5;28mself\u001b[39m\u001b[38;5;241m.\u001b[39mconnect()\n\u001b[0;32m   1036\u001b[0m \u001b[38;5;28;01melse\u001b[39;00m:\n",
      "File \u001b[1;32m~\\anaconda3\\Lib\\http\\client.py:1477\u001b[0m, in \u001b[0;36mHTTPSConnection.connect\u001b[1;34m(self)\u001b[0m\n\u001b[0;32m   1475\u001b[0m     server_hostname \u001b[38;5;241m=\u001b[39m \u001b[38;5;28mself\u001b[39m\u001b[38;5;241m.\u001b[39mhost\n\u001b[1;32m-> 1477\u001b[0m \u001b[38;5;28mself\u001b[39m\u001b[38;5;241m.\u001b[39msock \u001b[38;5;241m=\u001b[39m \u001b[38;5;28mself\u001b[39m\u001b[38;5;241m.\u001b[39m_context\u001b[38;5;241m.\u001b[39mwrap_socket(\u001b[38;5;28mself\u001b[39m\u001b[38;5;241m.\u001b[39msock,\n\u001b[0;32m   1478\u001b[0m                                       server_hostname\u001b[38;5;241m=\u001b[39mserver_hostname)\n",
      "File \u001b[1;32m~\\anaconda3\\Lib\\ssl.py:455\u001b[0m, in \u001b[0;36mSSLContext.wrap_socket\u001b[1;34m(self, sock, server_side, do_handshake_on_connect, suppress_ragged_eofs, server_hostname, session)\u001b[0m\n\u001b[0;32m    449\u001b[0m \u001b[38;5;28;01mdef\u001b[39;00m \u001b[38;5;21mwrap_socket\u001b[39m(\u001b[38;5;28mself\u001b[39m, sock, server_side\u001b[38;5;241m=\u001b[39m\u001b[38;5;28;01mFalse\u001b[39;00m,\n\u001b[0;32m    450\u001b[0m                 do_handshake_on_connect\u001b[38;5;241m=\u001b[39m\u001b[38;5;28;01mTrue\u001b[39;00m,\n\u001b[0;32m    451\u001b[0m                 suppress_ragged_eofs\u001b[38;5;241m=\u001b[39m\u001b[38;5;28;01mTrue\u001b[39;00m,\n\u001b[0;32m    452\u001b[0m                 server_hostname\u001b[38;5;241m=\u001b[39m\u001b[38;5;28;01mNone\u001b[39;00m, session\u001b[38;5;241m=\u001b[39m\u001b[38;5;28;01mNone\u001b[39;00m):\n\u001b[0;32m    453\u001b[0m     \u001b[38;5;66;03m# SSLSocket class handles server_hostname encoding before it calls\u001b[39;00m\n\u001b[0;32m    454\u001b[0m     \u001b[38;5;66;03m# ctx._wrap_socket()\u001b[39;00m\n\u001b[1;32m--> 455\u001b[0m     \u001b[38;5;28;01mreturn\u001b[39;00m \u001b[38;5;28mself\u001b[39m\u001b[38;5;241m.\u001b[39msslsocket_class\u001b[38;5;241m.\u001b[39m_create(\n\u001b[0;32m    456\u001b[0m         sock\u001b[38;5;241m=\u001b[39msock,\n\u001b[0;32m    457\u001b[0m         server_side\u001b[38;5;241m=\u001b[39mserver_side,\n\u001b[0;32m    458\u001b[0m         do_handshake_on_connect\u001b[38;5;241m=\u001b[39mdo_handshake_on_connect,\n\u001b[0;32m    459\u001b[0m         suppress_ragged_eofs\u001b[38;5;241m=\u001b[39msuppress_ragged_eofs,\n\u001b[0;32m    460\u001b[0m         server_hostname\u001b[38;5;241m=\u001b[39mserver_hostname,\n\u001b[0;32m    461\u001b[0m         context\u001b[38;5;241m=\u001b[39m\u001b[38;5;28mself\u001b[39m,\n\u001b[0;32m    462\u001b[0m         session\u001b[38;5;241m=\u001b[39msession\n\u001b[0;32m    463\u001b[0m     )\n",
      "File \u001b[1;32m~\\anaconda3\\Lib\\ssl.py:1042\u001b[0m, in \u001b[0;36mSSLSocket._create\u001b[1;34m(cls, sock, server_side, do_handshake_on_connect, suppress_ragged_eofs, server_hostname, context, session)\u001b[0m\n\u001b[0;32m   1041\u001b[0m                 \u001b[38;5;28;01mraise\u001b[39;00m \u001b[38;5;167;01mValueError\u001b[39;00m(\u001b[38;5;124m\"\u001b[39m\u001b[38;5;124mdo_handshake_on_connect should not be specified for non-blocking sockets\u001b[39m\u001b[38;5;124m\"\u001b[39m)\n\u001b[1;32m-> 1042\u001b[0m             \u001b[38;5;28mself\u001b[39m\u001b[38;5;241m.\u001b[39mdo_handshake()\n\u001b[0;32m   1043\u001b[0m \u001b[38;5;28;01mexcept\u001b[39;00m:\n",
      "File \u001b[1;32m~\\anaconda3\\Lib\\ssl.py:1320\u001b[0m, in \u001b[0;36mSSLSocket.do_handshake\u001b[1;34m(self, block)\u001b[0m\n\u001b[0;32m   1319\u001b[0m         \u001b[38;5;28mself\u001b[39m\u001b[38;5;241m.\u001b[39msettimeout(\u001b[38;5;28;01mNone\u001b[39;00m)\n\u001b[1;32m-> 1320\u001b[0m     \u001b[38;5;28mself\u001b[39m\u001b[38;5;241m.\u001b[39m_sslobj\u001b[38;5;241m.\u001b[39mdo_handshake()\n\u001b[0;32m   1321\u001b[0m \u001b[38;5;28;01mfinally\u001b[39;00m:\n",
      "\u001b[1;31mTimeoutError\u001b[0m: [WinError 10060] A connection attempt failed because the connected party did not properly respond after a period of time, or established connection failed because connected host has failed to respond",
      "\nDuring handling of the above exception, another exception occurred:\n",
      "\u001b[1;31mURLError\u001b[0m                                  Traceback (most recent call last)",
      "Cell \u001b[1;32mIn[270], line 5\u001b[0m\n\u001b[0;32m      1\u001b[0m medical_charges_url \u001b[38;5;241m=\u001b[39m \u001b[38;5;124m'\u001b[39m\u001b[38;5;124mhttps://raw.githubusercontent.com/JovianML/opendatasets/master/data/medical-charges.csv\u001b[39m\u001b[38;5;124m'\u001b[39m\n\u001b[0;32m      3\u001b[0m \u001b[38;5;28;01mfrom\u001b[39;00m \u001b[38;5;21;01murllib\u001b[39;00m\u001b[38;5;21;01m.\u001b[39;00m\u001b[38;5;21;01mrequest\u001b[39;00m \u001b[38;5;28;01mimport\u001b[39;00m urlretrieve\n\u001b[1;32m----> 5\u001b[0m urlretrieve(medical_charges_url, \u001b[38;5;124m'\u001b[39m\u001b[38;5;124mmedical.csv\u001b[39m\u001b[38;5;124m'\u001b[39m)\n",
      "File \u001b[1;32m~\\anaconda3\\Lib\\urllib\\request.py:240\u001b[0m, in \u001b[0;36murlretrieve\u001b[1;34m(url, filename, reporthook, data)\u001b[0m\n\u001b[0;32m    223\u001b[0m \u001b[38;5;250m\u001b[39m\u001b[38;5;124;03m\"\"\"\u001b[39;00m\n\u001b[0;32m    224\u001b[0m \u001b[38;5;124;03mRetrieve a URL into a temporary location on disk.\u001b[39;00m\n\u001b[0;32m    225\u001b[0m \n\u001b[1;32m   (...)\u001b[0m\n\u001b[0;32m    236\u001b[0m \u001b[38;5;124;03mdata file as well as the resulting HTTPMessage object.\u001b[39;00m\n\u001b[0;32m    237\u001b[0m \u001b[38;5;124;03m\"\"\"\u001b[39;00m\n\u001b[0;32m    238\u001b[0m url_type, path \u001b[38;5;241m=\u001b[39m _splittype(url)\n\u001b[1;32m--> 240\u001b[0m \u001b[38;5;28;01mwith\u001b[39;00m contextlib\u001b[38;5;241m.\u001b[39mclosing(urlopen(url, data)) \u001b[38;5;28;01mas\u001b[39;00m fp:\n\u001b[0;32m    241\u001b[0m     headers \u001b[38;5;241m=\u001b[39m fp\u001b[38;5;241m.\u001b[39minfo()\n\u001b[0;32m    243\u001b[0m     \u001b[38;5;66;03m# Just return the local path and the \"headers\" for file://\u001b[39;00m\n\u001b[0;32m    244\u001b[0m     \u001b[38;5;66;03m# URLs. No sense in performing a copy unless requested.\u001b[39;00m\n",
      "File \u001b[1;32m~\\anaconda3\\Lib\\urllib\\request.py:215\u001b[0m, in \u001b[0;36murlopen\u001b[1;34m(url, data, timeout, cafile, capath, cadefault, context)\u001b[0m\n\u001b[0;32m    213\u001b[0m \u001b[38;5;28;01melse\u001b[39;00m:\n\u001b[0;32m    214\u001b[0m     opener \u001b[38;5;241m=\u001b[39m _opener\n\u001b[1;32m--> 215\u001b[0m \u001b[38;5;28;01mreturn\u001b[39;00m opener\u001b[38;5;241m.\u001b[39mopen(url, data, timeout)\n",
      "File \u001b[1;32m~\\anaconda3\\Lib\\urllib\\request.py:515\u001b[0m, in \u001b[0;36mOpenerDirector.open\u001b[1;34m(self, fullurl, data, timeout)\u001b[0m\n\u001b[0;32m    512\u001b[0m     req \u001b[38;5;241m=\u001b[39m meth(req)\n\u001b[0;32m    514\u001b[0m sys\u001b[38;5;241m.\u001b[39maudit(\u001b[38;5;124m'\u001b[39m\u001b[38;5;124murllib.Request\u001b[39m\u001b[38;5;124m'\u001b[39m, req\u001b[38;5;241m.\u001b[39mfull_url, req\u001b[38;5;241m.\u001b[39mdata, req\u001b[38;5;241m.\u001b[39mheaders, req\u001b[38;5;241m.\u001b[39mget_method())\n\u001b[1;32m--> 515\u001b[0m response \u001b[38;5;241m=\u001b[39m \u001b[38;5;28mself\u001b[39m\u001b[38;5;241m.\u001b[39m_open(req, data)\n\u001b[0;32m    517\u001b[0m \u001b[38;5;66;03m# post-process response\u001b[39;00m\n\u001b[0;32m    518\u001b[0m meth_name \u001b[38;5;241m=\u001b[39m protocol\u001b[38;5;241m+\u001b[39m\u001b[38;5;124m\"\u001b[39m\u001b[38;5;124m_response\u001b[39m\u001b[38;5;124m\"\u001b[39m\n",
      "File \u001b[1;32m~\\anaconda3\\Lib\\urllib\\request.py:532\u001b[0m, in \u001b[0;36mOpenerDirector._open\u001b[1;34m(self, req, data)\u001b[0m\n\u001b[0;32m    529\u001b[0m     \u001b[38;5;28;01mreturn\u001b[39;00m result\n\u001b[0;32m    531\u001b[0m protocol \u001b[38;5;241m=\u001b[39m req\u001b[38;5;241m.\u001b[39mtype\n\u001b[1;32m--> 532\u001b[0m result \u001b[38;5;241m=\u001b[39m \u001b[38;5;28mself\u001b[39m\u001b[38;5;241m.\u001b[39m_call_chain(\u001b[38;5;28mself\u001b[39m\u001b[38;5;241m.\u001b[39mhandle_open, protocol, protocol \u001b[38;5;241m+\u001b[39m\n\u001b[0;32m    533\u001b[0m                           \u001b[38;5;124m'\u001b[39m\u001b[38;5;124m_open\u001b[39m\u001b[38;5;124m'\u001b[39m, req)\n\u001b[0;32m    534\u001b[0m \u001b[38;5;28;01mif\u001b[39;00m result:\n\u001b[0;32m    535\u001b[0m     \u001b[38;5;28;01mreturn\u001b[39;00m result\n",
      "File \u001b[1;32m~\\anaconda3\\Lib\\urllib\\request.py:492\u001b[0m, in \u001b[0;36mOpenerDirector._call_chain\u001b[1;34m(self, chain, kind, meth_name, *args)\u001b[0m\n\u001b[0;32m    490\u001b[0m \u001b[38;5;28;01mfor\u001b[39;00m handler \u001b[38;5;129;01min\u001b[39;00m handlers:\n\u001b[0;32m    491\u001b[0m     func \u001b[38;5;241m=\u001b[39m \u001b[38;5;28mgetattr\u001b[39m(handler, meth_name)\n\u001b[1;32m--> 492\u001b[0m     result \u001b[38;5;241m=\u001b[39m func(\u001b[38;5;241m*\u001b[39margs)\n\u001b[0;32m    493\u001b[0m     \u001b[38;5;28;01mif\u001b[39;00m result \u001b[38;5;129;01mis\u001b[39;00m \u001b[38;5;129;01mnot\u001b[39;00m \u001b[38;5;28;01mNone\u001b[39;00m:\n\u001b[0;32m    494\u001b[0m         \u001b[38;5;28;01mreturn\u001b[39;00m result\n",
      "File \u001b[1;32m~\\anaconda3\\Lib\\urllib\\request.py:1392\u001b[0m, in \u001b[0;36mHTTPSHandler.https_open\u001b[1;34m(self, req)\u001b[0m\n\u001b[0;32m   1391\u001b[0m \u001b[38;5;28;01mdef\u001b[39;00m \u001b[38;5;21mhttps_open\u001b[39m(\u001b[38;5;28mself\u001b[39m, req):\n\u001b[1;32m-> 1392\u001b[0m     \u001b[38;5;28;01mreturn\u001b[39;00m \u001b[38;5;28mself\u001b[39m\u001b[38;5;241m.\u001b[39mdo_open(http\u001b[38;5;241m.\u001b[39mclient\u001b[38;5;241m.\u001b[39mHTTPSConnection, req,\n\u001b[0;32m   1393\u001b[0m                         context\u001b[38;5;241m=\u001b[39m\u001b[38;5;28mself\u001b[39m\u001b[38;5;241m.\u001b[39m_context)\n",
      "File \u001b[1;32m~\\anaconda3\\Lib\\urllib\\request.py:1347\u001b[0m, in \u001b[0;36mAbstractHTTPHandler.do_open\u001b[1;34m(self, http_class, req, **http_conn_args)\u001b[0m\n\u001b[0;32m   1344\u001b[0m         h\u001b[38;5;241m.\u001b[39mrequest(req\u001b[38;5;241m.\u001b[39mget_method(), req\u001b[38;5;241m.\u001b[39mselector, req\u001b[38;5;241m.\u001b[39mdata, headers,\n\u001b[0;32m   1345\u001b[0m                   encode_chunked\u001b[38;5;241m=\u001b[39mreq\u001b[38;5;241m.\u001b[39mhas_header(\u001b[38;5;124m'\u001b[39m\u001b[38;5;124mTransfer-encoding\u001b[39m\u001b[38;5;124m'\u001b[39m))\n\u001b[0;32m   1346\u001b[0m     \u001b[38;5;28;01mexcept\u001b[39;00m \u001b[38;5;167;01mOSError\u001b[39;00m \u001b[38;5;28;01mas\u001b[39;00m err: \u001b[38;5;66;03m# timeout error\u001b[39;00m\n\u001b[1;32m-> 1347\u001b[0m         \u001b[38;5;28;01mraise\u001b[39;00m URLError(err)\n\u001b[0;32m   1348\u001b[0m     r \u001b[38;5;241m=\u001b[39m h\u001b[38;5;241m.\u001b[39mgetresponse()\n\u001b[0;32m   1349\u001b[0m \u001b[38;5;28;01mexcept\u001b[39;00m:\n",
      "\u001b[1;31mURLError\u001b[0m: <urlopen error [WinError 10060] A connection attempt failed because the connected party did not properly respond after a period of time, or established connection failed because connected host has failed to respond>"
     ]
    }
   ],
   "source": [
    "medical_charges_url = 'https://raw.githubusercontent.com/JovianML/opendatasets/master/data/medical-charges.csv'\n",
    "\n",
    "from urllib.request import urlretrieve\n",
    "\n",
    "urlretrieve(medical_charges_url, 'medical.csv')"
   ]
  },
  {
   "cell_type": "code",
   "execution_count": 272,
   "id": "4638baf5-b5ab-40a1-9cd6-2ee9c7fe2af6",
   "metadata": {
    "id": "4638baf5-b5ab-40a1-9cd6-2ee9c7fe2af6"
   },
   "outputs": [],
   "source": [
    "# import libraries\n",
    "import pandas as pd\n",
    "import numpy as np\n",
    "import matplotlib.pyplot as plt\n",
    "import seaborn as sns\n"
   ]
  },
  {
   "cell_type": "code",
   "execution_count": 274,
   "id": "6a6cc93d-d5d6-4ef5-a6d3-25d1b2134cc9",
   "metadata": {
    "id": "6a6cc93d-d5d6-4ef5-a6d3-25d1b2134cc9"
   },
   "outputs": [],
   "source": [
    "df = pd.read_csv('medical.csv')"
   ]
  },
  {
   "cell_type": "code",
   "execution_count": 276,
   "id": "5bfedaa7-48b1-4dc5-89a8-bf0cec2f44ec",
   "metadata": {
    "colab": {
     "base_uri": "https://localhost:8080/",
     "height": 423
    },
    "id": "5bfedaa7-48b1-4dc5-89a8-bf0cec2f44ec",
    "outputId": "871924ab-5e2e-4011-a947-f26c51752389"
   },
   "outputs": [
    {
     "data": {
      "text/html": [
       "<div>\n",
       "<style scoped>\n",
       "    .dataframe tbody tr th:only-of-type {\n",
       "        vertical-align: middle;\n",
       "    }\n",
       "\n",
       "    .dataframe tbody tr th {\n",
       "        vertical-align: top;\n",
       "    }\n",
       "\n",
       "    .dataframe thead th {\n",
       "        text-align: right;\n",
       "    }\n",
       "</style>\n",
       "<table border=\"1\" class=\"dataframe\">\n",
       "  <thead>\n",
       "    <tr style=\"text-align: right;\">\n",
       "      <th></th>\n",
       "      <th>age</th>\n",
       "      <th>sex</th>\n",
       "      <th>bmi</th>\n",
       "      <th>children</th>\n",
       "      <th>smoker</th>\n",
       "      <th>region</th>\n",
       "      <th>charges</th>\n",
       "    </tr>\n",
       "  </thead>\n",
       "  <tbody>\n",
       "    <tr>\n",
       "      <th>0</th>\n",
       "      <td>19</td>\n",
       "      <td>female</td>\n",
       "      <td>27.900</td>\n",
       "      <td>0</td>\n",
       "      <td>yes</td>\n",
       "      <td>southwest</td>\n",
       "      <td>16884.92400</td>\n",
       "    </tr>\n",
       "    <tr>\n",
       "      <th>1</th>\n",
       "      <td>18</td>\n",
       "      <td>male</td>\n",
       "      <td>33.770</td>\n",
       "      <td>1</td>\n",
       "      <td>no</td>\n",
       "      <td>southeast</td>\n",
       "      <td>1725.55230</td>\n",
       "    </tr>\n",
       "    <tr>\n",
       "      <th>2</th>\n",
       "      <td>28</td>\n",
       "      <td>male</td>\n",
       "      <td>33.000</td>\n",
       "      <td>3</td>\n",
       "      <td>no</td>\n",
       "      <td>southeast</td>\n",
       "      <td>4449.46200</td>\n",
       "    </tr>\n",
       "    <tr>\n",
       "      <th>3</th>\n",
       "      <td>33</td>\n",
       "      <td>male</td>\n",
       "      <td>22.705</td>\n",
       "      <td>0</td>\n",
       "      <td>no</td>\n",
       "      <td>northwest</td>\n",
       "      <td>21984.47061</td>\n",
       "    </tr>\n",
       "    <tr>\n",
       "      <th>4</th>\n",
       "      <td>32</td>\n",
       "      <td>male</td>\n",
       "      <td>28.880</td>\n",
       "      <td>0</td>\n",
       "      <td>no</td>\n",
       "      <td>northwest</td>\n",
       "      <td>3866.85520</td>\n",
       "    </tr>\n",
       "    <tr>\n",
       "      <th>...</th>\n",
       "      <td>...</td>\n",
       "      <td>...</td>\n",
       "      <td>...</td>\n",
       "      <td>...</td>\n",
       "      <td>...</td>\n",
       "      <td>...</td>\n",
       "      <td>...</td>\n",
       "    </tr>\n",
       "    <tr>\n",
       "      <th>1333</th>\n",
       "      <td>50</td>\n",
       "      <td>male</td>\n",
       "      <td>30.970</td>\n",
       "      <td>3</td>\n",
       "      <td>no</td>\n",
       "      <td>northwest</td>\n",
       "      <td>10600.54830</td>\n",
       "    </tr>\n",
       "    <tr>\n",
       "      <th>1334</th>\n",
       "      <td>18</td>\n",
       "      <td>female</td>\n",
       "      <td>31.920</td>\n",
       "      <td>0</td>\n",
       "      <td>no</td>\n",
       "      <td>northeast</td>\n",
       "      <td>2205.98080</td>\n",
       "    </tr>\n",
       "    <tr>\n",
       "      <th>1335</th>\n",
       "      <td>18</td>\n",
       "      <td>female</td>\n",
       "      <td>36.850</td>\n",
       "      <td>0</td>\n",
       "      <td>no</td>\n",
       "      <td>southeast</td>\n",
       "      <td>1629.83350</td>\n",
       "    </tr>\n",
       "    <tr>\n",
       "      <th>1336</th>\n",
       "      <td>21</td>\n",
       "      <td>female</td>\n",
       "      <td>25.800</td>\n",
       "      <td>0</td>\n",
       "      <td>no</td>\n",
       "      <td>southwest</td>\n",
       "      <td>2007.94500</td>\n",
       "    </tr>\n",
       "    <tr>\n",
       "      <th>1337</th>\n",
       "      <td>61</td>\n",
       "      <td>female</td>\n",
       "      <td>29.070</td>\n",
       "      <td>0</td>\n",
       "      <td>yes</td>\n",
       "      <td>northwest</td>\n",
       "      <td>29141.36030</td>\n",
       "    </tr>\n",
       "  </tbody>\n",
       "</table>\n",
       "<p>1338 rows × 7 columns</p>\n",
       "</div>"
      ],
      "text/plain": [
       "      age     sex     bmi  children smoker     region      charges\n",
       "0      19  female  27.900         0    yes  southwest  16884.92400\n",
       "1      18    male  33.770         1     no  southeast   1725.55230\n",
       "2      28    male  33.000         3     no  southeast   4449.46200\n",
       "3      33    male  22.705         0     no  northwest  21984.47061\n",
       "4      32    male  28.880         0     no  northwest   3866.85520\n",
       "...   ...     ...     ...       ...    ...        ...          ...\n",
       "1333   50    male  30.970         3     no  northwest  10600.54830\n",
       "1334   18  female  31.920         0     no  northeast   2205.98080\n",
       "1335   18  female  36.850         0     no  southeast   1629.83350\n",
       "1336   21  female  25.800         0     no  southwest   2007.94500\n",
       "1337   61  female  29.070         0    yes  northwest  29141.36030\n",
       "\n",
       "[1338 rows x 7 columns]"
      ]
     },
     "execution_count": 276,
     "metadata": {},
     "output_type": "execute_result"
    }
   ],
   "source": [
    "df"
   ]
  },
  {
   "cell_type": "markdown",
   "id": "7d337fa9-9cbb-4326-a73a-6e2eb0ac5454",
   "metadata": {
    "id": "7d337fa9-9cbb-4326-a73a-6e2eb0ac5454"
   },
   "source": [
    "The dataset contains 1338 rows and 7 columns. Each row of the dataset contains information about one customer.\n",
    "\n",
    "Our objective is to find a way to estimate the value in the `charges` column using the values in the other columns. If we can do so for the historical data, then we should able to estimate charges for new customers too, simply by asking for information like their age, sex, BMI, no. of children, smoking habits, and region.\n",
    "\n",
    "Let's check the data type for each column."
   ]
  },
  {
   "cell_type": "markdown",
   "id": "a93d5e6d-b9be-4802-b67d-78d27d828bed",
   "metadata": {
    "id": "a93d5e6d-b9be-4802-b67d-78d27d828bed"
   },
   "source": [
    "## 3. Data Cleaning\n",
    "We need to check through each columns"
   ]
  },
  {
   "cell_type": "code",
   "execution_count": 280,
   "id": "b4cb6d20-c80f-48cd-969c-304952afc916",
   "metadata": {
    "colab": {
     "base_uri": "https://localhost:8080/"
    },
    "id": "b4cb6d20-c80f-48cd-969c-304952afc916",
    "outputId": "39ef0ace-cca1-4e88-b8cd-dfcc45ffa1b4"
   },
   "outputs": [
    {
     "name": "stdout",
     "output_type": "stream",
     "text": [
      "<class 'pandas.core.frame.DataFrame'>\n",
      "RangeIndex: 1338 entries, 0 to 1337\n",
      "Data columns (total 7 columns):\n",
      " #   Column    Non-Null Count  Dtype  \n",
      "---  ------    --------------  -----  \n",
      " 0   age       1338 non-null   int64  \n",
      " 1   sex       1338 non-null   object \n",
      " 2   bmi       1338 non-null   float64\n",
      " 3   children  1338 non-null   int64  \n",
      " 4   smoker    1338 non-null   object \n",
      " 5   region    1338 non-null   object \n",
      " 6   charges   1338 non-null   float64\n",
      "dtypes: float64(2), int64(2), object(3)\n",
      "memory usage: 73.3+ KB\n"
     ]
    }
   ],
   "source": [
    "df.info()"
   ]
  },
  {
   "cell_type": "code",
   "execution_count": 282,
   "id": "37d78ce3-af99-4310-8d61-1ebd77e62ae0",
   "metadata": {
    "colab": {
     "base_uri": "https://localhost:8080/",
     "height": 303
    },
    "id": "37d78ce3-af99-4310-8d61-1ebd77e62ae0",
    "outputId": "248c9e13-2604-47b4-b54b-01ad862e646f"
   },
   "outputs": [
    {
     "data": {
      "text/plain": [
       "age         0\n",
       "sex         0\n",
       "bmi         0\n",
       "children    0\n",
       "smoker      0\n",
       "region      0\n",
       "charges     0\n",
       "dtype: int64"
      ]
     },
     "execution_count": 282,
     "metadata": {},
     "output_type": "execute_result"
    }
   ],
   "source": [
    "df.isna().sum()"
   ]
  },
  {
   "cell_type": "markdown",
   "id": "3a5aac11-a2c5-4fd4-ba1c-7f7f3e801c74",
   "metadata": {
    "id": "3a5aac11-a2c5-4fd4-ba1c-7f7f3e801c74"
   },
   "source": [
    "Looks like \"age\", \"children\", \"bmi\" ([body mass index](https://en.wikipedia.org/wiki/Body_mass_index)) and \"charges\" are numbers, whereas \"sex\", \"smoker\" and \"region\" are strings (possibly categories). None of the columns contain any missing values, which saves us a fair bit of work!\n",
    "\n",
    "Here are some statistics for the numerical columns:"
   ]
  },
  {
   "cell_type": "code",
   "execution_count": 285,
   "id": "0b2dd1a8-7f2a-475b-ac81-d66d8c7ebf58",
   "metadata": {
    "colab": {
     "base_uri": "https://localhost:8080/",
     "height": 175
    },
    "id": "0b2dd1a8-7f2a-475b-ac81-d66d8c7ebf58",
    "outputId": "11714b54-492c-4216-b16f-41d6f1b0ec17"
   },
   "outputs": [
    {
     "data": {
      "text/html": [
       "<div>\n",
       "<style scoped>\n",
       "    .dataframe tbody tr th:only-of-type {\n",
       "        vertical-align: middle;\n",
       "    }\n",
       "\n",
       "    .dataframe tbody tr th {\n",
       "        vertical-align: top;\n",
       "    }\n",
       "\n",
       "    .dataframe thead th {\n",
       "        text-align: right;\n",
       "    }\n",
       "</style>\n",
       "<table border=\"1\" class=\"dataframe\">\n",
       "  <thead>\n",
       "    <tr style=\"text-align: right;\">\n",
       "      <th></th>\n",
       "      <th>count</th>\n",
       "      <th>mean</th>\n",
       "      <th>std</th>\n",
       "      <th>min</th>\n",
       "      <th>25%</th>\n",
       "      <th>50%</th>\n",
       "      <th>75%</th>\n",
       "      <th>max</th>\n",
       "    </tr>\n",
       "  </thead>\n",
       "  <tbody>\n",
       "    <tr>\n",
       "      <th>age</th>\n",
       "      <td>1338.0</td>\n",
       "      <td>39.207025</td>\n",
       "      <td>14.049960</td>\n",
       "      <td>18.0000</td>\n",
       "      <td>27.00000</td>\n",
       "      <td>39.000</td>\n",
       "      <td>51.000000</td>\n",
       "      <td>64.00000</td>\n",
       "    </tr>\n",
       "    <tr>\n",
       "      <th>bmi</th>\n",
       "      <td>1338.0</td>\n",
       "      <td>30.663397</td>\n",
       "      <td>6.098187</td>\n",
       "      <td>15.9600</td>\n",
       "      <td>26.29625</td>\n",
       "      <td>30.400</td>\n",
       "      <td>34.693750</td>\n",
       "      <td>53.13000</td>\n",
       "    </tr>\n",
       "    <tr>\n",
       "      <th>children</th>\n",
       "      <td>1338.0</td>\n",
       "      <td>1.094918</td>\n",
       "      <td>1.205493</td>\n",
       "      <td>0.0000</td>\n",
       "      <td>0.00000</td>\n",
       "      <td>1.000</td>\n",
       "      <td>2.000000</td>\n",
       "      <td>5.00000</td>\n",
       "    </tr>\n",
       "    <tr>\n",
       "      <th>charges</th>\n",
       "      <td>1338.0</td>\n",
       "      <td>13270.422265</td>\n",
       "      <td>12110.011237</td>\n",
       "      <td>1121.8739</td>\n",
       "      <td>4740.28715</td>\n",
       "      <td>9382.033</td>\n",
       "      <td>16639.912515</td>\n",
       "      <td>63770.42801</td>\n",
       "    </tr>\n",
       "  </tbody>\n",
       "</table>\n",
       "</div>"
      ],
      "text/plain": [
       "           count          mean           std        min         25%       50%  \\\n",
       "age       1338.0     39.207025     14.049960    18.0000    27.00000    39.000   \n",
       "bmi       1338.0     30.663397      6.098187    15.9600    26.29625    30.400   \n",
       "children  1338.0      1.094918      1.205493     0.0000     0.00000     1.000   \n",
       "charges   1338.0  13270.422265  12110.011237  1121.8739  4740.28715  9382.033   \n",
       "\n",
       "                   75%          max  \n",
       "age          51.000000     64.00000  \n",
       "bmi          34.693750     53.13000  \n",
       "children      2.000000      5.00000  \n",
       "charges   16639.912515  63770.42801  "
      ]
     },
     "execution_count": 285,
     "metadata": {},
     "output_type": "execute_result"
    }
   ],
   "source": [
    "df.describe().T"
   ]
  },
  {
   "cell_type": "markdown",
   "id": "4e375ff1-fb36-48f7-a4eb-fef443cea2ca",
   "metadata": {
    "id": "4e375ff1-fb36-48f7-a4eb-fef443cea2ca"
   },
   "source": [
    "The ranges of values in the numerical columns seem reasonable too (no negative ages!), so we may not have to do much data cleaning or correction. The \"charges\" column seems to be significantly skewed however, as the median (50 percentile) is much lower than the maximum value."
   ]
  },
  {
   "cell_type": "markdown",
   "id": "b41c9bad-a353-4b5b-8580-536e689f33ef",
   "metadata": {
    "id": "b41c9bad-a353-4b5b-8580-536e689f33ef"
   },
   "source": [
    "## 4. Feature Engineering"
   ]
  },
  {
   "cell_type": "markdown",
   "id": "51050bc3-0ada-40aa-ac8a-1ec95f9dd607",
   "metadata": {
    "id": "51050bc3-0ada-40aa-ac8a-1ec95f9dd607"
   },
   "source": [
    "![](https://i.imgur.com/lh23OiY.jpg)"
   ]
  },
  {
   "cell_type": "code",
   "execution_count": 290,
   "id": "394293c9-5958-4180-96d7-0d6ce4f65f03",
   "metadata": {
    "id": "394293c9-5958-4180-96d7-0d6ce4f65f03"
   },
   "outputs": [],
   "source": [
    "df['bmi_category'] = pd.cut(df['bmi'], bins=[0, 18.5, 24.9, 29.9, 39.9, 100],\n",
    "                            labels=['Under Weight', 'Normal Weight', 'Over Weight', 'Obesity', 'Morbid Obesity'])"
   ]
  },
  {
   "cell_type": "code",
   "execution_count": 292,
   "id": "7f9ccb83-7fa5-4d10-a5b8-1fccaf86a42a",
   "metadata": {
    "id": "7f9ccb83-7fa5-4d10-a5b8-1fccaf86a42a"
   },
   "outputs": [],
   "source": [
    "df['age_group'] = pd.cut(df['age'], bins=[0, 8, 17, 30, 50, 100],\n",
    "                            labels=['Children', 'Teens', 'Youth', 'Adult', 'Aged'])"
   ]
  },
  {
   "cell_type": "code",
   "execution_count": 294,
   "id": "03678645-5884-406b-8466-26d95b8b2a16",
   "metadata": {
    "colab": {
     "base_uri": "https://localhost:8080/",
     "height": 206
    },
    "id": "03678645-5884-406b-8466-26d95b8b2a16",
    "outputId": "42c7f522-fa9b-40d5-a985-8e5056688275"
   },
   "outputs": [
    {
     "data": {
      "text/html": [
       "<div>\n",
       "<style scoped>\n",
       "    .dataframe tbody tr th:only-of-type {\n",
       "        vertical-align: middle;\n",
       "    }\n",
       "\n",
       "    .dataframe tbody tr th {\n",
       "        vertical-align: top;\n",
       "    }\n",
       "\n",
       "    .dataframe thead th {\n",
       "        text-align: right;\n",
       "    }\n",
       "</style>\n",
       "<table border=\"1\" class=\"dataframe\">\n",
       "  <thead>\n",
       "    <tr style=\"text-align: right;\">\n",
       "      <th></th>\n",
       "      <th>age</th>\n",
       "      <th>sex</th>\n",
       "      <th>bmi</th>\n",
       "      <th>children</th>\n",
       "      <th>smoker</th>\n",
       "      <th>region</th>\n",
       "      <th>charges</th>\n",
       "      <th>bmi_category</th>\n",
       "      <th>age_group</th>\n",
       "    </tr>\n",
       "  </thead>\n",
       "  <tbody>\n",
       "    <tr>\n",
       "      <th>0</th>\n",
       "      <td>19</td>\n",
       "      <td>female</td>\n",
       "      <td>27.900</td>\n",
       "      <td>0</td>\n",
       "      <td>yes</td>\n",
       "      <td>southwest</td>\n",
       "      <td>16884.92400</td>\n",
       "      <td>Over Weight</td>\n",
       "      <td>Youth</td>\n",
       "    </tr>\n",
       "    <tr>\n",
       "      <th>1</th>\n",
       "      <td>18</td>\n",
       "      <td>male</td>\n",
       "      <td>33.770</td>\n",
       "      <td>1</td>\n",
       "      <td>no</td>\n",
       "      <td>southeast</td>\n",
       "      <td>1725.55230</td>\n",
       "      <td>Obesity</td>\n",
       "      <td>Youth</td>\n",
       "    </tr>\n",
       "    <tr>\n",
       "      <th>2</th>\n",
       "      <td>28</td>\n",
       "      <td>male</td>\n",
       "      <td>33.000</td>\n",
       "      <td>3</td>\n",
       "      <td>no</td>\n",
       "      <td>southeast</td>\n",
       "      <td>4449.46200</td>\n",
       "      <td>Obesity</td>\n",
       "      <td>Youth</td>\n",
       "    </tr>\n",
       "    <tr>\n",
       "      <th>3</th>\n",
       "      <td>33</td>\n",
       "      <td>male</td>\n",
       "      <td>22.705</td>\n",
       "      <td>0</td>\n",
       "      <td>no</td>\n",
       "      <td>northwest</td>\n",
       "      <td>21984.47061</td>\n",
       "      <td>Normal Weight</td>\n",
       "      <td>Adult</td>\n",
       "    </tr>\n",
       "    <tr>\n",
       "      <th>4</th>\n",
       "      <td>32</td>\n",
       "      <td>male</td>\n",
       "      <td>28.880</td>\n",
       "      <td>0</td>\n",
       "      <td>no</td>\n",
       "      <td>northwest</td>\n",
       "      <td>3866.85520</td>\n",
       "      <td>Over Weight</td>\n",
       "      <td>Adult</td>\n",
       "    </tr>\n",
       "  </tbody>\n",
       "</table>\n",
       "</div>"
      ],
      "text/plain": [
       "   age     sex     bmi  children smoker     region      charges  \\\n",
       "0   19  female  27.900         0    yes  southwest  16884.92400   \n",
       "1   18    male  33.770         1     no  southeast   1725.55230   \n",
       "2   28    male  33.000         3     no  southeast   4449.46200   \n",
       "3   33    male  22.705         0     no  northwest  21984.47061   \n",
       "4   32    male  28.880         0     no  northwest   3866.85520   \n",
       "\n",
       "    bmi_category age_group  \n",
       "0    Over Weight     Youth  \n",
       "1        Obesity     Youth  \n",
       "2        Obesity     Youth  \n",
       "3  Normal Weight     Adult  \n",
       "4    Over Weight     Adult  "
      ]
     },
     "execution_count": 294,
     "metadata": {},
     "output_type": "execute_result"
    }
   ],
   "source": [
    "df.head()"
   ]
  },
  {
   "cell_type": "code",
   "execution_count": 296,
   "id": "d645eebe-1936-46e1-8f33-7062e1759db0",
   "metadata": {
    "colab": {
     "base_uri": "https://localhost:8080/"
    },
    "id": "d645eebe-1936-46e1-8f33-7062e1759db0",
    "outputId": "70546743-19fc-4d26-873c-891b60ee8077"
   },
   "outputs": [
    {
     "name": "stdout",
     "output_type": "stream",
     "text": [
      "<class 'pandas.core.frame.DataFrame'>\n",
      "RangeIndex: 1338 entries, 0 to 1337\n",
      "Data columns (total 9 columns):\n",
      " #   Column        Non-Null Count  Dtype   \n",
      "---  ------        --------------  -----   \n",
      " 0   age           1338 non-null   int64   \n",
      " 1   sex           1338 non-null   object  \n",
      " 2   bmi           1338 non-null   float64 \n",
      " 3   children      1338 non-null   int64   \n",
      " 4   smoker        1338 non-null   object  \n",
      " 5   region        1338 non-null   object  \n",
      " 6   charges       1338 non-null   float64 \n",
      " 7   bmi_category  1338 non-null   category\n",
      " 8   age_group     1338 non-null   category\n",
      "dtypes: category(2), float64(2), int64(2), object(3)\n",
      "memory usage: 76.3+ KB\n"
     ]
    }
   ],
   "source": [
    "df.info()"
   ]
  },
  {
   "cell_type": "markdown",
   "id": "8e94e719-9480-4693-b201-357cb3f8cd1e",
   "metadata": {
    "id": "8e94e719-9480-4693-b201-357cb3f8cd1e"
   },
   "source": [
    "## 5. Exploratory Data Analysis and Visualization\n",
    "\n",
    "#### a) Understanding the Distribution of the Target Variable (`charges`)"
   ]
  },
  {
   "cell_type": "code",
   "execution_count": 299,
   "id": "a783c399-d268-42d6-aa59-ff3b187993b1",
   "metadata": {
    "id": "a783c399-d268-42d6-aa59-ff3b187993b1"
   },
   "outputs": [],
   "source": [
    "num_cols = df.select_dtypes(include=np.number).columns\n",
    "cat_cols = df.select_dtypes(['object', 'category']).columns"
   ]
  },
  {
   "cell_type": "code",
   "execution_count": 301,
   "id": "dc2937a7-bb79-408c-be92-6ce88ffaf72e",
   "metadata": {
    "colab": {
     "base_uri": "https://localhost:8080/"
    },
    "id": "dc2937a7-bb79-408c-be92-6ce88ffaf72e",
    "outputId": "f12b4104-7a52-409c-c8ec-105b2273cd6b"
   },
   "outputs": [
    {
     "data": {
      "text/plain": [
       "Index(['sex', 'smoker', 'region', 'bmi_category', 'age_group'], dtype='object')"
      ]
     },
     "execution_count": 301,
     "metadata": {},
     "output_type": "execute_result"
    }
   ],
   "source": [
    "cat_cols"
   ]
  },
  {
   "cell_type": "markdown",
   "id": "35e002ba-1e5e-40c5-b9a4-65e110d21860",
   "metadata": {
    "id": "35e002ba-1e5e-40c5-b9a4-65e110d21860"
   },
   "source": [
    "#### Univariate"
   ]
  },
  {
   "cell_type": "code",
   "execution_count": 304,
   "id": "7c591994-33a1-4446-8f05-2f616b59d0e5",
   "metadata": {
    "colab": {
     "base_uri": "https://localhost:8080/",
     "height": 1000
    },
    "id": "7c591994-33a1-4446-8f05-2f616b59d0e5",
    "outputId": "e34435f2-0c9c-4c7d-bd17-adbab4953388"
   },
   "outputs": [
    {
     "name": "stdout",
     "output_type": "stream",
     "text": [
      "age \n",
      " Skew = 0.05567251565299186\n"
     ]
    },
    {
     "data": {
      "image/png": "[encoded data removed]",
      "text/plain": [
       "<Figure size 800x400 with 2 Axes>"
      ]
     },
     "metadata": {},
     "output_type": "display_data"
    },
    {
     "name": "stdout",
     "output_type": "stream",
     "text": [
      "bmi \n",
      " Skew = 0.2840471105987448\n"
     ]
    },
    {
     "data": {
      "image/png": "[encoded data removed]",
      "text/plain": [
       "<Figure size 800x400 with 2 Axes>"
      ]
     },
     "metadata": {},
     "output_type": "display_data"
    },
    {
     "name": "stdout",
     "output_type": "stream",
     "text": [
      "children \n",
      " Skew = 0.9383804401702414\n"
     ]
    },
    {
     "data": {
      "image/png": "[encoded data removed]",
      "text/plain": [
       "<Figure size 800x400 with 2 Axes>"
      ]
     },
     "metadata": {},
     "output_type": "display_data"
    },
    {
     "name": "stdout",
     "output_type": "stream",
     "text": [
      "charges \n",
      " Skew = 1.5158796580240388\n"
     ]
    },
    {
     "data": {
      "image/png": "[encoded data removed]",
      "text/plain": [
       "<Figure size 800x400 with 2 Axes>"
      ]
     },
     "metadata": {},
     "output_type": "display_data"
    }
   ],
   "source": [
    "# loop through numerical columns\n",
    "for col in num_cols:\n",
    "    skewness = df[col].skew()\n",
    "    print(f'{col} \\n Skew = {skewness}')\n",
    "    plt.figure(figsize=(8,4))\n",
    "    plt.subplot(1, 2, 1)\n",
    "    sns.histplot(df[col], kde=True, bins=20)\n",
    "    plt.title(f'{col} Distribution')\n",
    "    plt.xlabel(col)\n",
    "    plt.ylabel(\"count\")\n",
    "\n",
    "    plt.subplot(1, 2, 2)\n",
    "    sns.boxplot(x=df[col], color= 'lightgreen')\n",
    "    plt.title(f'{col} Boxplot')\n",
    "    plt.xlabel(col)\n",
    "    plt.show()\n",
    "    plt.show()"
   ]
  },
  {
   "cell_type": "code",
   "execution_count": 306,
   "id": "6696d135-2bb2-4dfc-a736-bc6449352160",
   "metadata": {
    "colab": {
     "base_uri": "https://localhost:8080/"
    },
    "id": "6696d135-2bb2-4dfc-a736-bc6449352160",
    "outputId": "7a0c9758-c378-4296-eca9-6f1b4de81ee6"
   },
   "outputs": [
    {
     "data": {
      "text/plain": [
       "Index(['sex', 'smoker', 'region', 'bmi_category', 'age_group'], dtype='object')"
      ]
     },
     "execution_count": 306,
     "metadata": {},
     "output_type": "execute_result"
    }
   ],
   "source": [
    "cat_cols"
   ]
  },
  {
   "cell_type": "code",
   "execution_count": 308,
   "id": "17c2c5b9-aa9b-478f-9d29-8ffbb01c25ac",
   "metadata": {
    "colab": {
     "base_uri": "https://localhost:8080/"
    },
    "id": "17c2c5b9-aa9b-478f-9d29-8ffbb01c25ac",
    "outputId": "e4aec4c7-300a-4f87-92b3-f832f39616f8"
   },
   "outputs": [
    {
     "data": {
      "text/plain": [
       "1"
      ]
     },
     "execution_count": 308,
     "metadata": {},
     "output_type": "execute_result"
    }
   ],
   "source": [
    "5%2"
   ]
  },
  {
   "cell_type": "code",
   "execution_count": 310,
   "id": "5446112f-d58a-4d85-b246-930cbd44b7ec",
   "metadata": {
    "colab": {
     "base_uri": "https://localhost:8080/",
     "height": 1000
    },
    "id": "5446112f-d58a-4d85-b246-930cbd44b7ec",
    "outputId": "0611e326-b8db-43a8-c792-8ee6503e8511"
   },
   "outputs": [
    {
     "data": {
      "image/png": "[encoded data removed]",
      "text/plain": [
       "<Figure size 1000x1000 with 6 Axes>"
      ]
     },
     "metadata": {},
     "output_type": "display_data"
    }
   ],
   "source": [
    "fig, axes = plt.subplots(3, 2, figsize=(10, 10))\n",
    "for i, col, in enumerate(cat_cols):\n",
    "    ax = axes[i//2, i%2]\n",
    "    sns.countplot(ax=ax, x=col, data=df, hue='smoker', order =df[col].value_counts().index)\n",
    "    ax.set_title(f'Distribution of {col}', fontsize=16)\n",
    "    ax.set_xlabel(col)\n",
    "'''\n",
    "if len(cat_cols)%2=0:\n",
    "    fig.delaxes(axes[-1, -1])\n",
    "'''\n",
    "plt.tight_layout()\n",
    "plt.show()"
   ]
  },
  {
   "cell_type": "code",
   "execution_count": 311,
   "id": "341f5b6d-366c-4f73-b8cc-e4a11d245ba7",
   "metadata": {
    "id": "341f5b6d-366c-4f73-b8cc-e4a11d245ba7"
   },
   "outputs": [],
   "source": [
    "df['log_charges'] = np.log(df['charges'])"
   ]
  },
  {
   "cell_type": "code",
   "execution_count": 318,
   "id": "8ad3b03f-07c1-496a-af59-c8ffe038aa09",
   "metadata": {
    "colab": {
     "base_uri": "https://localhost:8080/",
     "height": 427
    },
    "id": "8ad3b03f-07c1-496a-af59-c8ffe038aa09",
    "outputId": "96283d00-caad-4772-d803-8ee41a1d5f60"
   },
   "outputs": [
    {
     "data": {
      "text/plain": [
       "Text(0, 0.5, 'count')"
      ]
     },
     "execution_count": 318,
     "metadata": {},
     "output_type": "execute_result"
    },
    {
     "data": {
      "image/png": "[encoded data removed]",
      "text/plain": [
       "<Figure size 800x400 with 1 Axes>"
      ]
     },
     "metadata": {},
     "output_type": "display_data"
    }
   ],
   "source": [
    "plt.figure(figsize=(8,4))\n",
    "sns.histplot(df['log_charges'], kde=True, bins=47)\n",
    "plt.title('Log transform Distribution of Charges')\n",
    "plt.xlabel('Log(charges)')\n",
    "plt.ylabel(\"count\")"
   ]
  },
  {
   "cell_type": "code",
   "execution_count": 320,
   "id": "ad5951d5-c30d-4f7e-8656-2536c47d9b38",
   "metadata": {
    "colab": {
     "base_uri": "https://localhost:8080/",
     "height": 206
    },
    "id": "ad5951d5-c30d-4f7e-8656-2536c47d9b38",
    "outputId": "b2b78c8f-754a-4ae1-aad2-79c396fccf99"
   },
   "outputs": [
    {
     "data": {
      "text/html": [
       "<div>\n",
       "<style scoped>\n",
       "    .dataframe tbody tr th:only-of-type {\n",
       "        vertical-align: middle;\n",
       "    }\n",
       "\n",
       "    .dataframe tbody tr th {\n",
       "        vertical-align: top;\n",
       "    }\n",
       "\n",
       "    .dataframe thead th {\n",
       "        text-align: right;\n",
       "    }\n",
       "</style>\n",
       "<table border=\"1\" class=\"dataframe\">\n",
       "  <thead>\n",
       "    <tr style=\"text-align: right;\">\n",
       "      <th></th>\n",
       "      <th>count</th>\n",
       "      <th>mean</th>\n",
       "      <th>std</th>\n",
       "      <th>min</th>\n",
       "      <th>25%</th>\n",
       "      <th>50%</th>\n",
       "      <th>75%</th>\n",
       "      <th>max</th>\n",
       "    </tr>\n",
       "  </thead>\n",
       "  <tbody>\n",
       "    <tr>\n",
       "      <th>age</th>\n",
       "      <td>1338.0</td>\n",
       "      <td>39.207025</td>\n",
       "      <td>14.049960</td>\n",
       "      <td>18.000000</td>\n",
       "      <td>27.000000</td>\n",
       "      <td>39.000000</td>\n",
       "      <td>51.000000</td>\n",
       "      <td>64.000000</td>\n",
       "    </tr>\n",
       "    <tr>\n",
       "      <th>bmi</th>\n",
       "      <td>1338.0</td>\n",
       "      <td>30.663397</td>\n",
       "      <td>6.098187</td>\n",
       "      <td>15.960000</td>\n",
       "      <td>26.296250</td>\n",
       "      <td>30.400000</td>\n",
       "      <td>34.693750</td>\n",
       "      <td>53.130000</td>\n",
       "    </tr>\n",
       "    <tr>\n",
       "      <th>children</th>\n",
       "      <td>1338.0</td>\n",
       "      <td>1.094918</td>\n",
       "      <td>1.205493</td>\n",
       "      <td>0.000000</td>\n",
       "      <td>0.000000</td>\n",
       "      <td>1.000000</td>\n",
       "      <td>2.000000</td>\n",
       "      <td>5.000000</td>\n",
       "    </tr>\n",
       "    <tr>\n",
       "      <th>charges</th>\n",
       "      <td>1338.0</td>\n",
       "      <td>13270.422265</td>\n",
       "      <td>12110.011237</td>\n",
       "      <td>1121.873900</td>\n",
       "      <td>4740.287150</td>\n",
       "      <td>9382.033000</td>\n",
       "      <td>16639.912515</td>\n",
       "      <td>63770.428010</td>\n",
       "    </tr>\n",
       "    <tr>\n",
       "      <th>log_charges</th>\n",
       "      <td>1338.0</td>\n",
       "      <td>9.098659</td>\n",
       "      <td>0.919527</td>\n",
       "      <td>7.022756</td>\n",
       "      <td>8.463853</td>\n",
       "      <td>9.146552</td>\n",
       "      <td>9.719558</td>\n",
       "      <td>11.063045</td>\n",
       "    </tr>\n",
       "  </tbody>\n",
       "</table>\n",
       "</div>"
      ],
      "text/plain": [
       "              count          mean           std          min          25%  \\\n",
       "age          1338.0     39.207025     14.049960    18.000000    27.000000   \n",
       "bmi          1338.0     30.663397      6.098187    15.960000    26.296250   \n",
       "children     1338.0      1.094918      1.205493     0.000000     0.000000   \n",
       "charges      1338.0  13270.422265  12110.011237  1121.873900  4740.287150   \n",
       "log_charges  1338.0      9.098659      0.919527     7.022756     8.463853   \n",
       "\n",
       "                     50%           75%           max  \n",
       "age            39.000000     51.000000     64.000000  \n",
       "bmi            30.400000     34.693750     53.130000  \n",
       "children        1.000000      2.000000      5.000000  \n",
       "charges      9382.033000  16639.912515  63770.428010  \n",
       "log_charges     9.146552      9.719558     11.063045  "
      ]
     },
     "execution_count": 320,
     "metadata": {},
     "output_type": "execute_result"
    }
   ],
   "source": [
    "df.describe().T"
   ]
  },
  {
   "cell_type": "code",
   "execution_count": 322,
   "id": "772edc86-1418-465f-9878-aba342d4fedd",
   "metadata": {
    "colab": {
     "base_uri": "https://localhost:8080/",
     "height": 206
    },
    "id": "772edc86-1418-465f-9878-aba342d4fedd",
    "outputId": "313eb169-a1db-4c3b-c03a-fc23e9842847"
   },
   "outputs": [
    {
     "data": {
      "text/html": [
       "<div>\n",
       "<style scoped>\n",
       "    .dataframe tbody tr th:only-of-type {\n",
       "        vertical-align: middle;\n",
       "    }\n",
       "\n",
       "    .dataframe tbody tr th {\n",
       "        vertical-align: top;\n",
       "    }\n",
       "\n",
       "    .dataframe thead th {\n",
       "        text-align: right;\n",
       "    }\n",
       "</style>\n",
       "<table border=\"1\" class=\"dataframe\">\n",
       "  <thead>\n",
       "    <tr style=\"text-align: right;\">\n",
       "      <th></th>\n",
       "      <th>age</th>\n",
       "      <th>bmi</th>\n",
       "      <th>children</th>\n",
       "      <th>charges</th>\n",
       "      <th>log_charges</th>\n",
       "    </tr>\n",
       "  </thead>\n",
       "  <tbody>\n",
       "    <tr>\n",
       "      <th>age</th>\n",
       "      <td>1.000000</td>\n",
       "      <td>0.109272</td>\n",
       "      <td>0.042469</td>\n",
       "      <td>0.299008</td>\n",
       "      <td>0.527834</td>\n",
       "    </tr>\n",
       "    <tr>\n",
       "      <th>bmi</th>\n",
       "      <td>0.109272</td>\n",
       "      <td>1.000000</td>\n",
       "      <td>0.012759</td>\n",
       "      <td>0.198341</td>\n",
       "      <td>0.132669</td>\n",
       "    </tr>\n",
       "    <tr>\n",
       "      <th>children</th>\n",
       "      <td>0.042469</td>\n",
       "      <td>0.012759</td>\n",
       "      <td>1.000000</td>\n",
       "      <td>0.067998</td>\n",
       "      <td>0.161336</td>\n",
       "    </tr>\n",
       "    <tr>\n",
       "      <th>charges</th>\n",
       "      <td>0.299008</td>\n",
       "      <td>0.198341</td>\n",
       "      <td>0.067998</td>\n",
       "      <td>1.000000</td>\n",
       "      <td>0.892964</td>\n",
       "    </tr>\n",
       "    <tr>\n",
       "      <th>log_charges</th>\n",
       "      <td>0.527834</td>\n",
       "      <td>0.132669</td>\n",
       "      <td>0.161336</td>\n",
       "      <td>0.892964</td>\n",
       "      <td>1.000000</td>\n",
       "    </tr>\n",
       "  </tbody>\n",
       "</table>\n",
       "</div>"
      ],
      "text/plain": [
       "                  age       bmi  children   charges  log_charges\n",
       "age          1.000000  0.109272  0.042469  0.299008     0.527834\n",
       "bmi          0.109272  1.000000  0.012759  0.198341     0.132669\n",
       "children     0.042469  0.012759  1.000000  0.067998     0.161336\n",
       "charges      0.299008  0.198341  0.067998  1.000000     0.892964\n",
       "log_charges  0.527834  0.132669  0.161336  0.892964     1.000000"
      ]
     },
     "execution_count": 322,
     "metadata": {},
     "output_type": "execute_result"
    }
   ],
   "source": [
    "# prompt: perform correlation for the numerical column using corr() function\n",
    "\n",
    "num = df.select_dtypes(include=['number'])\n",
    "corr_matrix = num.corr()\n",
    "corr_matrix"
   ]
  },
  {
   "cell_type": "code",
   "execution_count": 324,
   "id": "-dDCJnXf7DgC",
   "metadata": {
    "colab": {
     "base_uri": "https://localhost:8080/",
     "height": 607
    },
    "id": "-dDCJnXf7DgC",
    "outputId": "bbe2f8a7-1c7b-4815-f397-773b542f72d7"
   },
   "outputs": [
    {
     "data": {
      "image/png": "[encoded data removed]",
      "text/plain": [
       "<Figure size 800x600 with 2 Axes>"
      ]
     },
     "metadata": {},
     "output_type": "display_data"
    }
   ],
   "source": [
    "\n",
    "# Set up the matplotlib figure\n",
    "plt.figure(figsize=(8, 6))\n",
    "\n",
    "# Draw the heatmap with the mask and correct aspect ratio\n",
    "sns.heatmap(corr_matrix, annot=True, fmt=\".2f\", cmap='coolwarm', center=0,\n",
    "            linewidths=1, linecolor='black', cbar_kws={\"shrink\": .75})\n",
    "\n",
    "# Add title and adjust font sizes for better readability\n",
    "plt.title('Correlation Heatmap', fontsize=20, fontweight='bold', color='navy')\n",
    "plt.xticks(fontsize=8, rotation=45, ha='right', color='darkslategray')\n",
    "plt.yticks(fontsize=8, rotation=0, color='darkslategray')\n",
    "\n",
    "# Show the plot\n",
    "plt.tight_layout()\n",
    "plt.show()"
   ]
  },
  {
   "cell_type": "markdown",
   "id": "4d8c4bbf-230b-4800-92ea-2a5f67f90b7c",
   "metadata": {
    "id": "4d8c4bbf-230b-4800-92ea-2a5f67f90b7c"
   },
   "source": [
    "## 6. Data Preparation\n",
    "\n",
    "#### Data Splitting"
   ]
  },
  {
   "cell_type": "code",
   "execution_count": 327,
   "id": "d92d9755-611e-44c1-94ad-70dcaa1874bb",
   "metadata": {
    "id": "d92d9755-611e-44c1-94ad-70dcaa1874bb"
   },
   "outputs": [],
   "source": [
    "X = df.drop(columns=['charges', 'log_charges'])\n",
    "y = df['log_charges']"
   ]
  },
  {
   "cell_type": "code",
   "execution_count": 329,
   "id": "4d77fce5-ce2e-42c4-881d-215b0db7cefe",
   "metadata": {
    "colab": {
     "base_uri": "https://localhost:8080/",
     "height": 423
    },
    "id": "4d77fce5-ce2e-42c4-881d-215b0db7cefe",
    "outputId": "f03a011c-bec9-4e66-8aa9-7e51c37c0c87"
   },
   "outputs": [
    {
     "data": {
      "text/html": [
       "<div>\n",
       "<style scoped>\n",
       "    .dataframe tbody tr th:only-of-type {\n",
       "        vertical-align: middle;\n",
       "    }\n",
       "\n",
       "    .dataframe tbody tr th {\n",
       "        vertical-align: top;\n",
       "    }\n",
       "\n",
       "    .dataframe thead th {\n",
       "        text-align: right;\n",
       "    }\n",
       "</style>\n",
       "<table border=\"1\" class=\"dataframe\">\n",
       "  <thead>\n",
       "    <tr style=\"text-align: right;\">\n",
       "      <th></th>\n",
       "      <th>age</th>\n",
       "      <th>sex</th>\n",
       "      <th>bmi</th>\n",
       "      <th>children</th>\n",
       "      <th>smoker</th>\n",
       "      <th>region</th>\n",
       "      <th>bmi_category</th>\n",
       "      <th>age_group</th>\n",
       "    </tr>\n",
       "  </thead>\n",
       "  <tbody>\n",
       "    <tr>\n",
       "      <th>0</th>\n",
       "      <td>19</td>\n",
       "      <td>female</td>\n",
       "      <td>27.900</td>\n",
       "      <td>0</td>\n",
       "      <td>yes</td>\n",
       "      <td>southwest</td>\n",
       "      <td>Over Weight</td>\n",
       "      <td>Youth</td>\n",
       "    </tr>\n",
       "    <tr>\n",
       "      <th>1</th>\n",
       "      <td>18</td>\n",
       "      <td>male</td>\n",
       "      <td>33.770</td>\n",
       "      <td>1</td>\n",
       "      <td>no</td>\n",
       "      <td>southeast</td>\n",
       "      <td>Obesity</td>\n",
       "      <td>Youth</td>\n",
       "    </tr>\n",
       "    <tr>\n",
       "      <th>2</th>\n",
       "      <td>28</td>\n",
       "      <td>male</td>\n",
       "      <td>33.000</td>\n",
       "      <td>3</td>\n",
       "      <td>no</td>\n",
       "      <td>southeast</td>\n",
       "      <td>Obesity</td>\n",
       "      <td>Youth</td>\n",
       "    </tr>\n",
       "    <tr>\n",
       "      <th>3</th>\n",
       "      <td>33</td>\n",
       "      <td>male</td>\n",
       "      <td>22.705</td>\n",
       "      <td>0</td>\n",
       "      <td>no</td>\n",
       "      <td>northwest</td>\n",
       "      <td>Normal Weight</td>\n",
       "      <td>Adult</td>\n",
       "    </tr>\n",
       "    <tr>\n",
       "      <th>4</th>\n",
       "      <td>32</td>\n",
       "      <td>male</td>\n",
       "      <td>28.880</td>\n",
       "      <td>0</td>\n",
       "      <td>no</td>\n",
       "      <td>northwest</td>\n",
       "      <td>Over Weight</td>\n",
       "      <td>Adult</td>\n",
       "    </tr>\n",
       "    <tr>\n",
       "      <th>...</th>\n",
       "      <td>...</td>\n",
       "      <td>...</td>\n",
       "      <td>...</td>\n",
       "      <td>...</td>\n",
       "      <td>...</td>\n",
       "      <td>...</td>\n",
       "      <td>...</td>\n",
       "      <td>...</td>\n",
       "    </tr>\n",
       "    <tr>\n",
       "      <th>1333</th>\n",
       "      <td>50</td>\n",
       "      <td>male</td>\n",
       "      <td>30.970</td>\n",
       "      <td>3</td>\n",
       "      <td>no</td>\n",
       "      <td>northwest</td>\n",
       "      <td>Obesity</td>\n",
       "      <td>Adult</td>\n",
       "    </tr>\n",
       "    <tr>\n",
       "      <th>1334</th>\n",
       "      <td>18</td>\n",
       "      <td>female</td>\n",
       "      <td>31.920</td>\n",
       "      <td>0</td>\n",
       "      <td>no</td>\n",
       "      <td>northeast</td>\n",
       "      <td>Obesity</td>\n",
       "      <td>Youth</td>\n",
       "    </tr>\n",
       "    <tr>\n",
       "      <th>1335</th>\n",
       "      <td>18</td>\n",
       "      <td>female</td>\n",
       "      <td>36.850</td>\n",
       "      <td>0</td>\n",
       "      <td>no</td>\n",
       "      <td>southeast</td>\n",
       "      <td>Obesity</td>\n",
       "      <td>Youth</td>\n",
       "    </tr>\n",
       "    <tr>\n",
       "      <th>1336</th>\n",
       "      <td>21</td>\n",
       "      <td>female</td>\n",
       "      <td>25.800</td>\n",
       "      <td>0</td>\n",
       "      <td>no</td>\n",
       "      <td>southwest</td>\n",
       "      <td>Over Weight</td>\n",
       "      <td>Youth</td>\n",
       "    </tr>\n",
       "    <tr>\n",
       "      <th>1337</th>\n",
       "      <td>61</td>\n",
       "      <td>female</td>\n",
       "      <td>29.070</td>\n",
       "      <td>0</td>\n",
       "      <td>yes</td>\n",
       "      <td>northwest</td>\n",
       "      <td>Over Weight</td>\n",
       "      <td>Aged</td>\n",
       "    </tr>\n",
       "  </tbody>\n",
       "</table>\n",
       "<p>1338 rows × 8 columns</p>\n",
       "</div>"
      ],
      "text/plain": [
       "      age     sex     bmi  children smoker     region   bmi_category age_group\n",
       "0      19  female  27.900         0    yes  southwest    Over Weight     Youth\n",
       "1      18    male  33.770         1     no  southeast        Obesity     Youth\n",
       "2      28    male  33.000         3     no  southeast        Obesity     Youth\n",
       "3      33    male  22.705         0     no  northwest  Normal Weight     Adult\n",
       "4      32    male  28.880         0     no  northwest    Over Weight     Adult\n",
       "...   ...     ...     ...       ...    ...        ...            ...       ...\n",
       "1333   50    male  30.970         3     no  northwest        Obesity     Adult\n",
       "1334   18  female  31.920         0     no  northeast        Obesity     Youth\n",
       "1335   18  female  36.850         0     no  southeast        Obesity     Youth\n",
       "1336   21  female  25.800         0     no  southwest    Over Weight     Youth\n",
       "1337   61  female  29.070         0    yes  northwest    Over Weight      Aged\n",
       "\n",
       "[1338 rows x 8 columns]"
      ]
     },
     "execution_count": 329,
     "metadata": {},
     "output_type": "execute_result"
    }
   ],
   "source": [
    "X"
   ]
  },
  {
   "cell_type": "code",
   "execution_count": 331,
   "id": "b14fd76b-8b84-4056-939a-ac9f8904e05d",
   "metadata": {
    "id": "b14fd76b-8b84-4056-939a-ac9f8904e05d"
   },
   "outputs": [],
   "source": [
    "from sklearn.model_selection import train_test_split"
   ]
  },
  {
   "cell_type": "code",
   "execution_count": 333,
   "id": "0bf73a2f-6e6c-4fae-a713-3a7f8ec28626",
   "metadata": {
    "id": "0bf73a2f-6e6c-4fae-a713-3a7f8ec28626"
   },
   "outputs": [],
   "source": [
    "\n",
    "train_inputs, test_input, train_targets, test_target = train_test_split(X, y, test_size= 0.2, random_state=42)\n"
   ]
  },
  {
   "cell_type": "code",
   "execution_count": 335,
   "id": "0312085f-b9da-4bad-b0c3-818024a65e0a",
   "metadata": {
    "colab": {
     "base_uri": "https://localhost:8080/"
    },
    "id": "0312085f-b9da-4bad-b0c3-818024a65e0a",
    "outputId": "a658f845-2924-4808-858e-65c9ed090024"
   },
   "outputs": [
    {
     "name": "stdout",
     "output_type": "stream",
     "text": [
      "(1070, 8)\n",
      "(268, 8)\n"
     ]
    }
   ],
   "source": [
    "print(train_inputs.shape)\n",
    "print(test_input.shape)"
   ]
  },
  {
   "cell_type": "markdown",
   "id": "47bee1fe-c9e7-4597-9eba-d77625973115",
   "metadata": {
    "id": "47bee1fe-c9e7-4597-9eba-d77625973115"
   },
   "source": [
    "### create encoder"
   ]
  },
  {
   "cell_type": "markdown",
   "id": "399a9cd0-7493-4844-ac1d-1c97bee05a45",
   "metadata": {
    "id": "399a9cd0-7493-4844-ac1d-1c97bee05a45"
   },
   "source": [
    "\n",
    "### One-hot Encoding\n",
    "\n",
    "The \"region\" column contains 4 values, so we'll need to use hot encoding and create a new column for each region.\n",
    "\n",
    "![](https://i.imgur.com/n8GuiOO.png)"
   ]
  },
  {
   "cell_type": "code",
   "execution_count": 339,
   "id": "1d170c6e-8fad-4ff1-8727-8507a084e738",
   "metadata": {
    "id": "1d170c6e-8fad-4ff1-8727-8507a084e738"
   },
   "outputs": [],
   "source": [
    "from sklearn.preprocessing import OneHotEncoder, StandardScaler"
   ]
  },
  {
   "cell_type": "code",
   "execution_count": 341,
   "id": "a802d25d-8969-47b0-bbc2-59c8df438f77",
   "metadata": {
    "id": "a802d25d-8969-47b0-bbc2-59c8df438f77"
   },
   "outputs": [],
   "source": [
    "encoder = OneHotEncoder(drop='first')"
   ]
  },
  {
   "cell_type": "code",
   "execution_count": 343,
   "id": "1c45885d-c4cb-46a8-a498-6ca68487a09c",
   "metadata": {
    "id": "1c45885d-c4cb-46a8-a498-6ca68487a09c"
   },
   "outputs": [],
   "source": [
    "train_cat = encoder.fit_transform(train_inputs[cat_cols])\n",
    "test_cat = encoder.transform(test_input[cat_cols])"
   ]
  },
  {
   "cell_type": "markdown",
   "id": "r0IhjfDH0p3t",
   "metadata": {
    "id": "r0IhjfDH0p3t"
   },
   "source": [
    "### Create Scaler\n",
    "\n",
    "$$Z=\\frac{x - \\mu}{\\sigma}$$"
   ]
  },
  {
   "cell_type": "code",
   "execution_count": 346,
   "id": "YF7tdiJz1soV",
   "metadata": {
    "id": "YF7tdiJz1soV"
   },
   "outputs": [],
   "source": [
    "num_cols = ['age', 'bmi', 'children']"
   ]
  },
  {
   "cell_type": "code",
   "execution_count": 348,
   "id": "O14sKB9f0mJi",
   "metadata": {
    "id": "O14sKB9f0mJi"
   },
   "outputs": [],
   "source": [
    "scaler = StandardScaler()"
   ]
  },
  {
   "cell_type": "code",
   "execution_count": 350,
   "id": "aba26584-8baf-4e07-9f60-ddde2d6481a3",
   "metadata": {
    "id": "aba26584-8baf-4e07-9f60-ddde2d6481a3"
   },
   "outputs": [],
   "source": [
    "train_num = scaler.fit_transform(train_inputs[num_cols])\n",
    "test_num = scaler.transform(test_input[num_cols])"
   ]
  },
  {
   "cell_type": "code",
   "execution_count": 352,
   "id": "244e2994-db56-4a4b-a039-76b875510673",
   "metadata": {
    "id": "244e2994-db56-4a4b-a039-76b875510673"
   },
   "outputs": [],
   "source": [
    "train_processed = np.hstack((train_num, train_cat.toarray()))\n",
    "test_processed = np.hstack((test_num, test_cat.toarray()))"
   ]
  },
  {
   "cell_type": "code",
   "execution_count": 354,
   "id": "tEgDlsOV20zs",
   "metadata": {
    "colab": {
     "base_uri": "https://localhost:8080/"
    },
    "id": "tEgDlsOV20zs",
    "outputId": "a2d7296f-443b-43a3-9d7a-2ffa2df54c2a"
   },
   "outputs": [
    {
     "data": {
      "text/plain": [
       "array([[ 0.47222651, -1.75652513,  0.73433626, ...,  0.        ,\n",
       "         0.        ,  0.        ],\n",
       "       [ 0.54331294, -1.03308239, -0.91119211, ...,  0.        ,\n",
       "         0.        ,  0.        ],\n",
       "       [ 0.8987451 , -0.94368672, -0.91119211, ...,  0.        ,\n",
       "         1.        ,  0.        ],\n",
       "       ...,\n",
       "       [ 1.3252637 , -0.89153925, -0.91119211, ...,  0.        ,\n",
       "         1.        ,  0.        ],\n",
       "       [-0.16755139,  2.82086429,  0.73433626, ...,  0.        ,\n",
       "         0.        ,  0.        ],\n",
       "       [ 1.1120044 , -0.10932713, -0.91119211, ...,  0.        ,\n",
       "         1.        ,  0.        ]])"
      ]
     },
     "execution_count": 354,
     "metadata": {},
     "output_type": "execute_result"
    }
   ],
   "source": [
    "train_processed"
   ]
  },
  {
   "cell_type": "code",
   "execution_count": null,
   "id": "bf48f707-edcf-42e9-ab58-e09f50f08093",
   "metadata": {
    "id": "bf48f707-edcf-42e9-ab58-e09f50f08093"
   },
   "outputs": [],
   "source": []
  },
  {
   "cell_type": "markdown",
   "id": "bb325e0a-f29e-41d0-a568-32253684887c",
   "metadata": {
    "id": "bb325e0a-f29e-41d0-a568-32253684887c"
   },
   "source": [
    "### Model Selection"
   ]
  },
  {
   "cell_type": "code",
   "execution_count": 358,
   "id": "9026ee1e-93c0-4643-8ee9-64d840993dbd",
   "metadata": {
    "id": "9026ee1e-93c0-4643-8ee9-64d840993dbd"
   },
   "outputs": [],
   "source": [
    "from sklearn.linear_model import LinearRegression"
   ]
  },
  {
   "cell_type": "code",
   "execution_count": 360,
   "id": "d7f95436-3e54-4151-8902-a7a899f9372b",
   "metadata": {
    "id": "d7f95436-3e54-4151-8902-a7a899f9372b"
   },
   "outputs": [],
   "source": [
    "model = LinearRegression()"
   ]
  },
  {
   "cell_type": "markdown",
   "id": "a04692be-fce4-4561-8d0a-43133d404ac4",
   "metadata": {
    "id": "a04692be-fce4-4561-8d0a-43133d404ac4"
   },
   "source": [
    "### Model Training"
   ]
  },
  {
   "cell_type": "code",
   "execution_count": 363,
   "id": "cb6d95bc-f92c-4ff3-a3fd-b9704a25e272",
   "metadata": {
    "colab": {
     "base_uri": "https://localhost:8080/",
     "height": 74
    },
    "id": "cb6d95bc-f92c-4ff3-a3fd-b9704a25e272",
    "outputId": "3e4eda77-a308-4d2e-9580-08ff7422a2b7"
   },
   "outputs": [
    {
     "data": {
      "text/html": [
       "<style>#sk-container-id-4 {\n",
       "  /* Definition of color scheme common for light and dark mode */\n",
       "  --sklearn-color-text: black;\n",
       "  --sklearn-color-line: gray;\n",
       "  /* Definition of color scheme for unfitted estimators */\n",
       "  --sklearn-color-unfitted-level-0: #fff5e6;\n",
       "  --sklearn-color-unfitted-level-1: #f6e4d2;\n",
       "  --sklearn-color-unfitted-level-2: #ffe0b3;\n",
       "  --sklearn-color-unfitted-level-3: chocolate;\n",
       "  /* Definition of color scheme for fitted estimators */\n",
       "  --sklearn-color-fitted-level-0: #f0f8ff;\n",
       "  --sklearn-color-fitted-level-1: #d4ebff;\n",
       "  --sklearn-color-fitted-level-2: #b3dbfd;\n",
       "  --sklearn-color-fitted-level-3: cornflowerblue;\n",
       "\n",
       "  /* Specific color for light theme */\n",
       "  --sklearn-color-text-on-default-background: var(--sg-text-color, var(--theme-code-foreground, var(--jp-content-font-color1, black)));\n",
       "  --sklearn-color-background: var(--sg-background-color, var(--theme-background, var(--jp-layout-color0, white)));\n",
       "  --sklearn-color-border-box: var(--sg-text-color, var(--theme-code-foreground, var(--jp-content-font-color1, black)));\n",
       "  --sklearn-color-icon: #696969;\n",
       "\n",
       "  @media (prefers-color-scheme: dark) {\n",
       "    /* Redefinition of color scheme for dark theme */\n",
       "    --sklearn-color-text-on-default-background: var(--sg-text-color, var(--theme-code-foreground, var(--jp-content-font-color1, white)));\n",
       "    --sklearn-color-background: var(--sg-background-color, var(--theme-background, var(--jp-layout-color0, #111)));\n",
       "    --sklearn-color-border-box: var(--sg-text-color, var(--theme-code-foreground, var(--jp-content-font-color1, white)));\n",
       "    --sklearn-color-icon: #878787;\n",
       "  }\n",
       "}\n",
       "\n",
       "#sk-container-id-4 {\n",
       "  color: var(--sklearn-color-text);\n",
       "}\n",
       "\n",
       "#sk-container-id-4 pre {\n",
       "  padding: 0;\n",
       "}\n",
       "\n",
       "#sk-container-id-4 input.sk-hidden--visually {\n",
       "  border: 0;\n",
       "  clip: rect(1px 1px 1px 1px);\n",
       "  clip: rect(1px, 1px, 1px, 1px);\n",
       "  height: 1px;\n",
       "  margin: -1px;\n",
       "  overflow: hidden;\n",
       "  padding: 0;\n",
       "  position: absolute;\n",
       "  width: 1px;\n",
       "}\n",
       "\n",
       "#sk-container-id-4 div.sk-dashed-wrapped {\n",
       "  border: 1px dashed var(--sklearn-color-line);\n",
       "  margin: 0 0.4em 0.5em 0.4em;\n",
       "  box-sizing: border-box;\n",
       "  padding-bottom: 0.4em;\n",
       "  background-color: var(--sklearn-color-background);\n",
       "}\n",
       "\n",
       "#sk-container-id-4 div.sk-container {\n",
       "  /* jupyter's `normalize.less` sets `[hidden] { display: none; }`\n",
       "     but bootstrap.min.css set `[hidden] { display: none !important; }`\n",
       "     so we also need the `!important` here to be able to override the\n",
       "     default hidden behavior on the sphinx rendered scikit-learn.org.\n",
       "     See: https://github.com/scikit-learn/scikit-learn/issues/21755 */\n",
       "  display: inline-block !important;\n",
       "  position: relative;\n",
       "}\n",
       "\n",
       "#sk-container-id-4 div.sk-text-repr-fallback {\n",
       "  display: none;\n",
       "}\n",
       "\n",
       "div.sk-parallel-item,\n",
       "div.sk-serial,\n",
       "div.sk-item {\n",
       "  /* draw centered vertical line to link estimators */\n",
       "  background-image: linear-gradient(var(--sklearn-color-text-on-default-background), var(--sklearn-color-text-on-default-background));\n",
       "  background-size: 2px 100%;\n",
       "  background-repeat: no-repeat;\n",
       "  background-position: center center;\n",
       "}\n",
       "\n",
       "/* Parallel-specific style estimator block */\n",
       "\n",
       "#sk-container-id-4 div.sk-parallel-item::after {\n",
       "  content: \"\";\n",
       "  width: 100%;\n",
       "  border-bottom: 2px solid var(--sklearn-color-text-on-default-background);\n",
       "  flex-grow: 1;\n",
       "}\n",
       "\n",
       "#sk-container-id-4 div.sk-parallel {\n",
       "  display: flex;\n",
       "  align-items: stretch;\n",
       "  justify-content: center;\n",
       "  background-color: var(--sklearn-color-background);\n",
       "  position: relative;\n",
       "}\n",
       "\n",
       "#sk-container-id-4 div.sk-parallel-item {\n",
       "  display: flex;\n",
       "  flex-direction: column;\n",
       "}\n",
       "\n",
       "#sk-container-id-4 div.sk-parallel-item:first-child::after {\n",
       "  align-self: flex-end;\n",
       "  width: 50%;\n",
       "}\n",
       "\n",
       "#sk-container-id-4 div.sk-parallel-item:last-child::after {\n",
       "  align-self: flex-start;\n",
       "  width: 50%;\n",
       "}\n",
       "\n",
       "#sk-container-id-4 div.sk-parallel-item:only-child::after {\n",
       "  width: 0;\n",
       "}\n",
       "\n",
       "/* Serial-specific style estimator block */\n",
       "\n",
       "#sk-container-id-4 div.sk-serial {\n",
       "  display: flex;\n",
       "  flex-direction: column;\n",
       "  align-items: center;\n",
       "  background-color: var(--sklearn-color-background);\n",
       "  padding-right: 1em;\n",
       "  padding-left: 1em;\n",
       "}\n",
       "\n",
       "\n",
       "/* Toggleable style: style used for estimator/Pipeline/ColumnTransformer box that is\n",
       "clickable and can be expanded/collapsed.\n",
       "- Pipeline and ColumnTransformer use this feature and define the default style\n",
       "- Estimators will overwrite some part of the style using the `sk-estimator` class\n",
       "*/\n",
       "\n",
       "/* Pipeline and ColumnTransformer style (default) */\n",
       "\n",
       "#sk-container-id-4 div.sk-toggleable {\n",
       "  /* Default theme specific background. It is overwritten whether we have a\n",
       "  specific estimator or a Pipeline/ColumnTransformer */\n",
       "  background-color: var(--sklearn-color-background);\n",
       "}\n",
       "\n",
       "/* Toggleable label */\n",
       "#sk-container-id-4 label.sk-toggleable__label {\n",
       "  cursor: pointer;\n",
       "  display: block;\n",
       "  width: 100%;\n",
       "  margin-bottom: 0;\n",
       "  padding: 0.5em;\n",
       "  box-sizing: border-box;\n",
       "  text-align: center;\n",
       "}\n",
       "\n",
       "#sk-container-id-4 label.sk-toggleable__label-arrow:before {\n",
       "  /* Arrow on the left of the label */\n",
       "  content: \"▸\";\n",
       "  float: left;\n",
       "  margin-right: 0.25em;\n",
       "  color: var(--sklearn-color-icon);\n",
       "}\n",
       "\n",
       "#sk-container-id-4 label.sk-toggleable__label-arrow:hover:before {\n",
       "  color: var(--sklearn-color-text);\n",
       "}\n",
       "\n",
       "/* Toggleable content - dropdown */\n",
       "\n",
       "#sk-container-id-4 div.sk-toggleable__content {\n",
       "  max-height: 0;\n",
       "  max-width: 0;\n",
       "  overflow: hidden;\n",
       "  text-align: left;\n",
       "  /* unfitted */\n",
       "  background-color: var(--sklearn-color-unfitted-level-0);\n",
       "}\n",
       "\n",
       "#sk-container-id-4 div.sk-toggleable__content.fitted {\n",
       "  /* fitted */\n",
       "  background-color: var(--sklearn-color-fitted-level-0);\n",
       "}\n",
       "\n",
       "#sk-container-id-4 div.sk-toggleable__content pre {\n",
       "  margin: 0.2em;\n",
       "  border-radius: 0.25em;\n",
       "  color: var(--sklearn-color-text);\n",
       "  /* unfitted */\n",
       "  background-color: var(--sklearn-color-unfitted-level-0);\n",
       "}\n",
       "\n",
       "#sk-container-id-4 div.sk-toggleable__content.fitted pre {\n",
       "  /* unfitted */\n",
       "  background-color: var(--sklearn-color-fitted-level-0);\n",
       "}\n",
       "\n",
       "#sk-container-id-4 input.sk-toggleable__control:checked~div.sk-toggleable__content {\n",
       "  /* Expand drop-down */\n",
       "  max-height: 200px;\n",
       "  max-width: 100%;\n",
       "  overflow: auto;\n",
       "}\n",
       "\n",
       "#sk-container-id-4 input.sk-toggleable__control:checked~label.sk-toggleable__label-arrow:before {\n",
       "  content: \"▾\";\n",
       "}\n",
       "\n",
       "/* Pipeline/ColumnTransformer-specific style */\n",
       "\n",
       "#sk-container-id-4 div.sk-label input.sk-toggleable__control:checked~label.sk-toggleable__label {\n",
       "  color: var(--sklearn-color-text);\n",
       "  background-color: var(--sklearn-color-unfitted-level-2);\n",
       "}\n",
       "\n",
       "#sk-container-id-4 div.sk-label.fitted input.sk-toggleable__control:checked~label.sk-toggleable__label {\n",
       "  background-color: var(--sklearn-color-fitted-level-2);\n",
       "}\n",
       "\n",
       "/* Estimator-specific style */\n",
       "\n",
       "/* Colorize estimator box */\n",
       "#sk-container-id-4 div.sk-estimator input.sk-toggleable__control:checked~label.sk-toggleable__label {\n",
       "  /* unfitted */\n",
       "  background-color: var(--sklearn-color-unfitted-level-2);\n",
       "}\n",
       "\n",
       "#sk-container-id-4 div.sk-estimator.fitted input.sk-toggleable__control:checked~label.sk-toggleable__label {\n",
       "  /* fitted */\n",
       "  background-color: var(--sklearn-color-fitted-level-2);\n",
       "}\n",
       "\n",
       "#sk-container-id-4 div.sk-label label.sk-toggleable__label,\n",
       "#sk-container-id-4 div.sk-label label {\n",
       "  /* The background is the default theme color */\n",
       "  color: var(--sklearn-color-text-on-default-background);\n",
       "}\n",
       "\n",
       "/* On hover, darken the color of the background */\n",
       "#sk-container-id-4 div.sk-label:hover label.sk-toggleable__label {\n",
       "  color: var(--sklearn-color-text);\n",
       "  background-color: var(--sklearn-color-unfitted-level-2);\n",
       "}\n",
       "\n",
       "/* Label box, darken color on hover, fitted */\n",
       "#sk-container-id-4 div.sk-label.fitted:hover label.sk-toggleable__label.fitted {\n",
       "  color: var(--sklearn-color-text);\n",
       "  background-color: var(--sklearn-color-fitted-level-2);\n",
       "}\n",
       "\n",
       "/* Estimator label */\n",
       "\n",
       "#sk-container-id-4 div.sk-label label {\n",
       "  font-family: monospace;\n",
       "  font-weight: bold;\n",
       "  display: inline-block;\n",
       "  line-height: 1.2em;\n",
       "}\n",
       "\n",
       "#sk-container-id-4 div.sk-label-container {\n",
       "  text-align: center;\n",
       "}\n",
       "\n",
       "/* Estimator-specific */\n",
       "#sk-container-id-4 div.sk-estimator {\n",
       "  font-family: monospace;\n",
       "  border: 1px dotted var(--sklearn-color-border-box);\n",
       "  border-radius: 0.25em;\n",
       "  box-sizing: border-box;\n",
       "  margin-bottom: 0.5em;\n",
       "  /* unfitted */\n",
       "  background-color: var(--sklearn-color-unfitted-level-0);\n",
       "}\n",
       "\n",
       "#sk-container-id-4 div.sk-estimator.fitted {\n",
       "  /* fitted */\n",
       "  background-color: var(--sklearn-color-fitted-level-0);\n",
       "}\n",
       "\n",
       "/* on hover */\n",
       "#sk-container-id-4 div.sk-estimator:hover {\n",
       "  /* unfitted */\n",
       "  background-color: var(--sklearn-color-unfitted-level-2);\n",
       "}\n",
       "\n",
       "#sk-container-id-4 div.sk-estimator.fitted:hover {\n",
       "  /* fitted */\n",
       "  background-color: var(--sklearn-color-fitted-level-2);\n",
       "}\n",
       "\n",
       "/* Specification for estimator info (e.g. \"i\" and \"?\") */\n",
       "\n",
       "/* Common style for \"i\" and \"?\" */\n",
       "\n",
       ".sk-estimator-doc-link,\n",
       "a:link.sk-estimator-doc-link,\n",
       "a:visited.sk-estimator-doc-link {\n",
       "  float: right;\n",
       "  font-size: smaller;\n",
       "  line-height: 1em;\n",
       "  font-family: monospace;\n",
       "  background-color: var(--sklearn-color-background);\n",
       "  border-radius: 1em;\n",
       "  height: 1em;\n",
       "  width: 1em;\n",
       "  text-decoration: none !important;\n",
       "  margin-left: 1ex;\n",
       "  /* unfitted */\n",
       "  border: var(--sklearn-color-unfitted-level-1) 1pt solid;\n",
       "  color: var(--sklearn-color-unfitted-level-1);\n",
       "}\n",
       "\n",
       ".sk-estimator-doc-link.fitted,\n",
       "a:link.sk-estimator-doc-link.fitted,\n",
       "a:visited.sk-estimator-doc-link.fitted {\n",
       "  /* fitted */\n",
       "  border: var(--sklearn-color-fitted-level-1) 1pt solid;\n",
       "  color: var(--sklearn-color-fitted-level-1);\n",
       "}\n",
       "\n",
       "/* On hover */\n",
       "div.sk-estimator:hover .sk-estimator-doc-link:hover,\n",
       ".sk-estimator-doc-link:hover,\n",
       "div.sk-label-container:hover .sk-estimator-doc-link:hover,\n",
       ".sk-estimator-doc-link:hover {\n",
       "  /* unfitted */\n",
       "  background-color: var(--sklearn-color-unfitted-level-3);\n",
       "  color: var(--sklearn-color-background);\n",
       "  text-decoration: none;\n",
       "}\n",
       "\n",
       "div.sk-estimator.fitted:hover .sk-estimator-doc-link.fitted:hover,\n",
       ".sk-estimator-doc-link.fitted:hover,\n",
       "div.sk-label-container:hover .sk-estimator-doc-link.fitted:hover,\n",
       ".sk-estimator-doc-link.fitted:hover {\n",
       "  /* fitted */\n",
       "  background-color: var(--sklearn-color-fitted-level-3);\n",
       "  color: var(--sklearn-color-background);\n",
       "  text-decoration: none;\n",
       "}\n",
       "\n",
       "/* Span, style for the box shown on hovering the info icon */\n",
       ".sk-estimator-doc-link span {\n",
       "  display: none;\n",
       "  z-index: 9999;\n",
       "  position: relative;\n",
       "  font-weight: normal;\n",
       "  right: .2ex;\n",
       "  padding: .5ex;\n",
       "  margin: .5ex;\n",
       "  width: min-content;\n",
       "  min-width: 20ex;\n",
       "  max-width: 50ex;\n",
       "  color: var(--sklearn-color-text);\n",
       "  box-shadow: 2pt 2pt 4pt #999;\n",
       "  /* unfitted */\n",
       "  background: var(--sklearn-color-unfitted-level-0);\n",
       "  border: .5pt solid var(--sklearn-color-unfitted-level-3);\n",
       "}\n",
       "\n",
       ".sk-estimator-doc-link.fitted span {\n",
       "  /* fitted */\n",
       "  background: var(--sklearn-color-fitted-level-0);\n",
       "  border: var(--sklearn-color-fitted-level-3);\n",
       "}\n",
       "\n",
       ".sk-estimator-doc-link:hover span {\n",
       "  display: block;\n",
       "}\n",
       "\n",
       "/* \"?\"-specific style due to the `<a>` HTML tag */\n",
       "\n",
       "#sk-container-id-4 a.estimator_doc_link {\n",
       "  float: right;\n",
       "  font-size: 1rem;\n",
       "  line-height: 1em;\n",
       "  font-family: monospace;\n",
       "  background-color: var(--sklearn-color-background);\n",
       "  border-radius: 1rem;\n",
       "  height: 1rem;\n",
       "  width: 1rem;\n",
       "  text-decoration: none;\n",
       "  /* unfitted */\n",
       "  color: var(--sklearn-color-unfitted-level-1);\n",
       "  border: var(--sklearn-color-unfitted-level-1) 1pt solid;\n",
       "}\n",
       "\n",
       "#sk-container-id-4 a.estimator_doc_link.fitted {\n",
       "  /* fitted */\n",
       "  border: var(--sklearn-color-fitted-level-1) 1pt solid;\n",
       "  color: var(--sklearn-color-fitted-level-1);\n",
       "}\n",
       "\n",
       "/* On hover */\n",
       "#sk-container-id-4 a.estimator_doc_link:hover {\n",
       "  /* unfitted */\n",
       "  background-color: var(--sklearn-color-unfitted-level-3);\n",
       "  color: var(--sklearn-color-background);\n",
       "  text-decoration: none;\n",
       "}\n",
       "\n",
       "#sk-container-id-4 a.estimator_doc_link.fitted:hover {\n",
       "  /* fitted */\n",
       "  background-color: var(--sklearn-color-fitted-level-3);\n",
       "}\n",
       "</style><div id=\"sk-container-id-4\" class=\"sk-top-container\"><div class=\"sk-text-repr-fallback\"><pre>LinearRegression()</pre><b>In a Jupyter environment, please rerun this cell to show the HTML representation or trust the notebook. <br />On GitHub, the HTML representation is unable to render, please try loading this page with nbviewer.org.</b></div><div class=\"sk-container\" hidden><div class=\"sk-item\"><div class=\"sk-estimator fitted sk-toggleable\"><input class=\"sk-toggleable__control sk-hidden--visually\" id=\"sk-estimator-id-4\" type=\"checkbox\" checked><label for=\"sk-estimator-id-4\" class=\"sk-toggleable__label fitted sk-toggleable__label-arrow fitted\">&nbsp;&nbsp;LinearRegression<a class=\"sk-estimator-doc-link fitted\" rel=\"noreferrer\" target=\"_blank\" href=\"https://scikit-learn.org/1.4/modules/generated/sklearn.linear_model.LinearRegression.html\">?<span>Documentation for LinearRegression</span></a><span class=\"sk-estimator-doc-link fitted\">i<span>Fitted</span></span></label><div class=\"sk-toggleable__content fitted\"><pre>LinearRegression()</pre></div> </div></div></div></div>"
      ],
      "text/plain": [
       "LinearRegression()"
      ]
     },
     "execution_count": 363,
     "metadata": {},
     "output_type": "execute_result"
    }
   ],
   "source": [
    "model.fit(train_processed, train_targets)"
   ]
  },
  {
   "cell_type": "code",
   "execution_count": 365,
   "id": "4c7331a7-335b-4325-ae96-7aa1334c3bc5",
   "metadata": {
    "id": "4c7331a7-335b-4325-ae96-7aa1334c3bc5"
   },
   "outputs": [],
   "source": [
    "train_pred = model.predict(train_processed)"
   ]
  },
  {
   "cell_type": "code",
   "execution_count": 367,
   "id": "9932d1d3-38b3-4600-bbe5-bba1cf8be64b",
   "metadata": {
    "id": "9932d1d3-38b3-4600-bbe5-bba1cf8be64b"
   },
   "outputs": [],
   "source": [
    "test_pred = model.predict(test_processed)"
   ]
  },
  {
   "cell_type": "markdown",
   "id": "cc27001d-c020-47cb-b36c-9117bf464221",
   "metadata": {
    "id": "cc27001d-c020-47cb-b36c-9117bf464221"
   },
   "source": [
    "### Model Evaluation"
   ]
  },
  {
   "cell_type": "code",
   "execution_count": 370,
   "id": "a541a45e-6984-4aaa-a34b-d5574ee890e3",
   "metadata": {
    "id": "a541a45e-6984-4aaa-a34b-d5574ee890e3"
   },
   "outputs": [],
   "source": [
    "from sklearn.metrics import mean_squared_error, r2_score"
   ]
  },
  {
   "cell_type": "code",
   "execution_count": 372,
   "id": "7c690dbd-f74d-4e9b-978f-a33892447b3c",
   "metadata": {
    "id": "7c690dbd-f74d-4e9b-978f-a33892447b3c"
   },
   "outputs": [],
   "source": [
    "train_mse = mean_squared_error(train_targets, train_pred)\n",
    "test_mse = mean_squared_error(test_target, test_pred)"
   ]
  },
  {
   "cell_type": "code",
   "execution_count": 374,
   "id": "b3c0939c-fac5-443b-a891-c4027a9b112f",
   "metadata": {
    "colab": {
     "base_uri": "https://localhost:8080/"
    },
    "id": "b3c0939c-fac5-443b-a891-c4027a9b112f",
    "outputId": "63adceb8-edf8-46a1-e02a-5bd63efd0d4e"
   },
   "outputs": [
    {
     "name": "stdout",
     "output_type": "stream",
     "text": [
      "Training MSE: 0.1996456147322207\n",
      "Test MSE: 0.17676697266899422\n"
     ]
    }
   ],
   "source": [
    "print(f'Training MSE: {train_mse}')\n",
    "print(f'Test MSE: {test_mse}')"
   ]
  },
  {
   "cell_type": "markdown",
   "id": "d7507194-eb4a-4d9d-a5f1-04e6032a1934",
   "metadata": {
    "id": "d7507194-eb4a-4d9d-a5f1-04e6032a1934"
   },
   "source": [
    "**Training vs. Test MSE:** The test MSE is slightly lower than the training MSE. This is generally a good sign, suggesting that the model is generalizing well to unseen data rather than overfitting. Overfitting typically leads to a much lower training MSE compared to test MSE."
   ]
  },
  {
   "cell_type": "markdown",
   "id": "02a0af72-246d-43de-aa02-021af8568023",
   "metadata": {
    "id": "02a0af72-246d-43de-aa02-021af8568023"
   },
   "source": [
    "### Model Performance:"
   ]
  },
  {
   "cell_type": "code",
   "execution_count": 378,
   "id": "3ba9b387-4814-4de8-9efd-7b71b93ea418",
   "metadata": {
    "id": "3ba9b387-4814-4de8-9efd-7b71b93ea418"
   },
   "outputs": [],
   "source": [
    "r2_train = r2_score(train_targets, train_pred)\n",
    "r2_test = r2_score(test_target, test_pred)"
   ]
  },
  {
   "cell_type": "code",
   "execution_count": 380,
   "id": "44799c47-a68f-4d29-a6c4-95d06fc79ce8",
   "metadata": {
    "colab": {
     "base_uri": "https://localhost:8080/"
    },
    "id": "44799c47-a68f-4d29-a6c4-95d06fc79ce8",
    "outputId": "d561be7b-e345-4a6f-90ae-3cde23fdc766"
   },
   "outputs": [
    {
     "name": "stdout",
     "output_type": "stream",
     "text": [
      "Training R² Score: 0.7595322721994279\n",
      "Test R² Score: 0.8034045396740934\n"
     ]
    }
   ],
   "source": [
    "print(f'Training R² Score: {r2_train}')\n",
    "print(f'Test R² Score: {r2_test}')"
   ]
  },
  {
   "cell_type": "code",
   "execution_count": null,
   "id": "6882edfc-f40a-465f-b655-986927c90755",
   "metadata": {
    "id": "6882edfc-f40a-465f-b655-986927c90755"
   },
   "outputs": [],
   "source": []
  },
  {
   "cell_type": "markdown",
   "id": "e31b4a5b-4eaf-4b2a-b4a6-786554f4d49c",
   "metadata": {
    "id": "e31b4a5b-4eaf-4b2a-b4a6-786554f4d49c"
   },
   "source": [
    "**Training R² Score (0.762):**\n",
    "\n",
    "This means that approximately 76.2% of the variance in the training data's target variable (log_charges) is explained by your model. This indicates a good fit to the training data, suggesting that the model captures a significant amount of the underlying patterns.\n",
    "\n",
    "**Test R² Score (0.806):**\n",
    "\n",
    "This means that approximately 80.6% of the variance in the test data's target variable is explained by your model. This is slightly better than the training R² score, which generally indicates that the model generalizes well to new, unseen data. It suggests that the model performs slightly better on the test set compared to the training set."
   ]
  },
  {
   "cell_type": "code",
   "execution_count": null,
   "id": "b5fcc27b-54cb-44e7-bb9d-01bba0ad96bc",
   "metadata": {
    "id": "b5fcc27b-54cb-44e7-bb9d-01bba0ad96bc"
   },
   "outputs": [],
   "source": []
  },
  {
   "cell_type": "code",
   "execution_count": 385,
   "id": "d86b8dee-f104-4195-9ce8-9063a3e4d1ac",
   "metadata": {
    "colab": {
     "base_uri": "https://localhost:8080/",
     "height": 488
    },
    "id": "d86b8dee-f104-4195-9ce8-9063a3e4d1ac",
    "outputId": "4738aa52-fb16-4c62-a317-7b0a9ff28c56"
   },
   "outputs": [
    {
     "data": {
      "text/html": [
       "<div>\n",
       "<style scoped>\n",
       "    .dataframe tbody tr th:only-of-type {\n",
       "        vertical-align: middle;\n",
       "    }\n",
       "\n",
       "    .dataframe tbody tr th {\n",
       "        vertical-align: top;\n",
       "    }\n",
       "\n",
       "    .dataframe thead th {\n",
       "        text-align: right;\n",
       "    }\n",
       "</style>\n",
       "<table border=\"1\" class=\"dataframe\">\n",
       "  <thead>\n",
       "    <tr style=\"text-align: right;\">\n",
       "      <th></th>\n",
       "      <th>Feature</th>\n",
       "      <th>Coefficient</th>\n",
       "      <th>Absolute Coefficient</th>\n",
       "    </tr>\n",
       "  </thead>\n",
       "  <tbody>\n",
       "    <tr>\n",
       "      <th>4</th>\n",
       "      <td>smoker_yes</td>\n",
       "      <td>1.551760</td>\n",
       "      <td>1.551760</td>\n",
       "    </tr>\n",
       "    <tr>\n",
       "      <th>0</th>\n",
       "      <td>age</td>\n",
       "      <td>0.522238</td>\n",
       "      <td>0.522238</td>\n",
       "    </tr>\n",
       "    <tr>\n",
       "      <th>11</th>\n",
       "      <td>bmi_category_Under Weight</td>\n",
       "      <td>-0.137659</td>\n",
       "      <td>0.137659</td>\n",
       "    </tr>\n",
       "    <tr>\n",
       "      <th>6</th>\n",
       "      <td>region_southeast</td>\n",
       "      <td>-0.135973</td>\n",
       "      <td>0.135973</td>\n",
       "    </tr>\n",
       "    <tr>\n",
       "      <th>7</th>\n",
       "      <td>region_southwest</td>\n",
       "      <td>-0.128585</td>\n",
       "      <td>0.128585</td>\n",
       "    </tr>\n",
       "    <tr>\n",
       "      <th>2</th>\n",
       "      <td>children</td>\n",
       "      <td>0.108795</td>\n",
       "      <td>0.108795</td>\n",
       "    </tr>\n",
       "    <tr>\n",
       "      <th>9</th>\n",
       "      <td>bmi_category_Obesity</td>\n",
       "      <td>0.094649</td>\n",
       "      <td>0.094649</td>\n",
       "    </tr>\n",
       "    <tr>\n",
       "      <th>12</th>\n",
       "      <td>age_group_Aged</td>\n",
       "      <td>-0.087615</td>\n",
       "      <td>0.087615</td>\n",
       "    </tr>\n",
       "    <tr>\n",
       "      <th>3</th>\n",
       "      <td>sex_male</td>\n",
       "      <td>-0.072207</td>\n",
       "      <td>0.072207</td>\n",
       "    </tr>\n",
       "    <tr>\n",
       "      <th>5</th>\n",
       "      <td>region_northwest</td>\n",
       "      <td>-0.064592</td>\n",
       "      <td>0.064592</td>\n",
       "    </tr>\n",
       "    <tr>\n",
       "      <th>1</th>\n",
       "      <td>bmi</td>\n",
       "      <td>0.059009</td>\n",
       "      <td>0.059009</td>\n",
       "    </tr>\n",
       "    <tr>\n",
       "      <th>13</th>\n",
       "      <td>age_group_Youth</td>\n",
       "      <td>0.032294</td>\n",
       "      <td>0.032294</td>\n",
       "    </tr>\n",
       "    <tr>\n",
       "      <th>10</th>\n",
       "      <td>bmi_category_Over Weight</td>\n",
       "      <td>0.027196</td>\n",
       "      <td>0.027196</td>\n",
       "    </tr>\n",
       "    <tr>\n",
       "      <th>8</th>\n",
       "      <td>bmi_category_Normal Weight</td>\n",
       "      <td>0.004212</td>\n",
       "      <td>0.004212</td>\n",
       "    </tr>\n",
       "  </tbody>\n",
       "</table>\n",
       "</div>"
      ],
      "text/plain": [
       "                       Feature  Coefficient  Absolute Coefficient\n",
       "4                   smoker_yes     1.551760              1.551760\n",
       "0                          age     0.522238              0.522238\n",
       "11   bmi_category_Under Weight    -0.137659              0.137659\n",
       "6             region_southeast    -0.135973              0.135973\n",
       "7             region_southwest    -0.128585              0.128585\n",
       "2                     children     0.108795              0.108795\n",
       "9         bmi_category_Obesity     0.094649              0.094649\n",
       "12              age_group_Aged    -0.087615              0.087615\n",
       "3                     sex_male    -0.072207              0.072207\n",
       "5             region_northwest    -0.064592              0.064592\n",
       "1                          bmi     0.059009              0.059009\n",
       "13             age_group_Youth     0.032294              0.032294\n",
       "10    bmi_category_Over Weight     0.027196              0.027196\n",
       "8   bmi_category_Normal Weight     0.004212              0.004212"
      ]
     },
     "execution_count": 385,
     "metadata": {},
     "output_type": "execute_result"
    }
   ],
   "source": [
    "import pandas as pd\n",
    "\n",
    "# Get the coefficients from the fitted model\n",
    "coefficients = model.coef_\n",
    "\n",
    "# Create a DataFrame to display feature names and their coefficients\n",
    "# Combine numerical and categorical features' names\n",
    "feature_names = num_cols + list(encoder.get_feature_names_out())  # For OneHotEncoder\n",
    "\n",
    "# Create a DataFrame with feature names and coefficients\n",
    "feature_df = pd.DataFrame({\n",
    "    'Feature': feature_names,\n",
    "    'Coefficient': coefficients\n",
    "})\n",
    "\n",
    "# Sort the DataFrame by the absolute value of the coefficients to see the most important features\n",
    "feature_df['Absolute Coefficient'] = feature_df['Coefficient'].abs()\n",
    "feature_df_sorted = feature_df.sort_values(by='Absolute Coefficient', ascending=False)\n",
    "\n",
    "feature_df_sorted\n"
   ]
  },
  {
   "cell_type": "code",
   "execution_count": null,
   "id": "62d3518e-c310-4468-b11d-ad715510690f",
   "metadata": {},
   "outputs": [],
   "source": []
  },
  {
   "cell_type": "markdown",
   "id": "3d5f96c4-9b40-4543-b449-a147abf724b4",
   "metadata": {},
   "source": [
    "# Regression Metrics\n",
    "\n",
    "`Regression metrics` are quantitative measures used to evaluate the performance of a regression model. Scikit-learn provides several metrics, each with its strengths and limitations, to assess how well a model fits the data. It is crucial to obtain accurate and approximate results on unseen data; otherwise, the model is of no practical use.\n",
    "\n",
    "To build and deploy a generalized model, it is essential to evaluate the model using various metrics. This process helps us optimize performance, fine-tune the model, and achieve better results.\n",
    "\n",
    "The effectiveness of a regression model must be reported in terms of error in its predictions. We need to understand how close the predictions are to the actual values. Error metrics address this by summarizing, on average, how close the predictions are to the expected values.\n",
    "\n",
    "\n"
   ]
  },
  {
   "cell_type": "code",
   "execution_count": 387,
   "id": "f63d91dd-bb8e-4e05-b559-043b8b2fc9b8",
   "metadata": {},
   "outputs": [
    {
     "data": {
      "text/plain": [
       "560      9.126289\n",
       "1285     9.051892\n",
       "1142    10.207953\n",
       "969      9.059149\n",
       "486      9.431510\n",
       "          ...    \n",
       "1095     8.425339\n",
       "1130     9.057457\n",
       "1294     9.386906\n",
       "860     10.738861\n",
       "1126     9.231577\n",
       "Name: log_charges, Length: 1070, dtype: float64"
      ]
     },
     "execution_count": 387,
     "metadata": {},
     "output_type": "execute_result"
    }
   ],
   "source": [
    "train_targets"
   ]
  },
  {
   "cell_type": "code",
   "execution_count": 389,
   "id": "dd6503bd-d66e-493c-a619-97d5328b7f5d",
   "metadata": {},
   "outputs": [
    {
     "data": {
      "text/plain": [
       "array([ 9.03969337,  9.00507467,  8.97238206, ...,  9.28495244,\n",
       "       10.45923903,  9.091153  ])"
      ]
     },
     "execution_count": 389,
     "metadata": {},
     "output_type": "execute_result"
    }
   ],
   "source": [
    "train_pred"
   ]
  },
  {
   "cell_type": "code",
   "execution_count": 393,
   "id": "495762f3-2083-4bef-bb55-044b3e486159",
   "metadata": {},
   "outputs": [],
   "source": [
    "error =  train_targets - train_pred"
   ]
  },
  {
   "cell_type": "code",
   "execution_count": 395,
   "id": "795ec7dc-3d41-4bc4-80e6-127b93a686b3",
   "metadata": {},
   "outputs": [],
   "source": [
    "prediction_table = pd.DataFrame({\n",
    "                        'Actual' : train_targets,\n",
    "                        'Predicted' : train_pred,\n",
    "                        'Error' : error\n",
    "})\n"
   ]
  },
  {
   "cell_type": "code",
   "execution_count": 399,
   "id": "f81ae759-5ed2-470d-ba66-c110915fbbd5",
   "metadata": {},
   "outputs": [
    {
     "data": {
      "text/html": [
       "<div>\n",
       "<style scoped>\n",
       "    .dataframe tbody tr th:only-of-type {\n",
       "        vertical-align: middle;\n",
       "    }\n",
       "\n",
       "    .dataframe tbody tr th {\n",
       "        vertical-align: top;\n",
       "    }\n",
       "\n",
       "    .dataframe thead th {\n",
       "        text-align: right;\n",
       "    }\n",
       "</style>\n",
       "<table border=\"1\" class=\"dataframe\">\n",
       "  <thead>\n",
       "    <tr style=\"text-align: right;\">\n",
       "      <th></th>\n",
       "      <th>Actual</th>\n",
       "      <th>Predicted</th>\n",
       "      <th>Error</th>\n",
       "    </tr>\n",
       "  </thead>\n",
       "  <tbody>\n",
       "    <tr>\n",
       "      <th>560</th>\n",
       "      <td>9.126289</td>\n",
       "      <td>9.039693</td>\n",
       "      <td>0.086595</td>\n",
       "    </tr>\n",
       "    <tr>\n",
       "      <th>1285</th>\n",
       "      <td>9.051892</td>\n",
       "      <td>9.005075</td>\n",
       "      <td>0.046818</td>\n",
       "    </tr>\n",
       "    <tr>\n",
       "      <th>1142</th>\n",
       "      <td>10.207953</td>\n",
       "      <td>8.972382</td>\n",
       "      <td>1.235571</td>\n",
       "    </tr>\n",
       "    <tr>\n",
       "      <th>969</th>\n",
       "      <td>9.059149</td>\n",
       "      <td>9.207795</td>\n",
       "      <td>-0.148647</td>\n",
       "    </tr>\n",
       "    <tr>\n",
       "      <th>486</th>\n",
       "      <td>9.431510</td>\n",
       "      <td>9.353431</td>\n",
       "      <td>0.078079</td>\n",
       "    </tr>\n",
       "    <tr>\n",
       "      <th>170</th>\n",
       "      <td>9.503412</td>\n",
       "      <td>9.466586</td>\n",
       "      <td>0.036826</td>\n",
       "    </tr>\n",
       "    <tr>\n",
       "      <th>277</th>\n",
       "      <td>7.673441</td>\n",
       "      <td>7.980488</td>\n",
       "      <td>-0.307046</td>\n",
       "    </tr>\n",
       "    <tr>\n",
       "      <th>1033</th>\n",
       "      <td>9.528639</td>\n",
       "      <td>9.413411</td>\n",
       "      <td>0.115228</td>\n",
       "    </tr>\n",
       "    <tr>\n",
       "      <th>209</th>\n",
       "      <td>8.796356</td>\n",
       "      <td>8.923489</td>\n",
       "      <td>-0.127133</td>\n",
       "    </tr>\n",
       "    <tr>\n",
       "      <th>947</th>\n",
       "      <td>10.572529</td>\n",
       "      <td>10.389852</td>\n",
       "      <td>0.182677</td>\n",
       "    </tr>\n",
       "  </tbody>\n",
       "</table>\n",
       "</div>"
      ],
      "text/plain": [
       "         Actual  Predicted     Error\n",
       "560    9.126289   9.039693  0.086595\n",
       "1285   9.051892   9.005075  0.046818\n",
       "1142  10.207953   8.972382  1.235571\n",
       "969    9.059149   9.207795 -0.148647\n",
       "486    9.431510   9.353431  0.078079\n",
       "170    9.503412   9.466586  0.036826\n",
       "277    7.673441   7.980488 -0.307046\n",
       "1033   9.528639   9.413411  0.115228\n",
       "209    8.796356   8.923489 -0.127133\n",
       "947   10.572529  10.389852  0.182677"
      ]
     },
     "execution_count": 399,
     "metadata": {},
     "output_type": "execute_result"
    }
   ],
   "source": [
    "prediction_table.head(10)"
   ]
  },
  {
   "cell_type": "code",
   "execution_count": null,
   "id": "c3139e25-d105-4568-af1c-194b8b8472fb",
   "metadata": {},
   "outputs": [],
   "source": []
  },
  {
   "cell_type": "markdown",
   "id": "e2c00c5e-4b7d-4ccf-9b6f-b90b674baa4d",
   "metadata": {},
   "source": [
    "### 1. Mean Absolute Error (MAE):\n",
    "Mean Absolute Error (MAE) is a commonly used metric in regression analysis. It measures the average absolute discrepancies between the actual values and the predicted values of a dataset. MAE provides an understanding of the model’s average absolute error in making predictions.\n",
    "\n",
    "In other words, MAE tells us how close the predictions are to the actual values on average. Lower MAE values indicate that the model’s predictions are close to the actual values, signifying good predictive performance. Conversely, higher MAE values suggest that the model’s predictions are further from the actual values, indicating poor predictive performance.\n",
    "\n",
    "$$ \\text{MAE } = \\dfrac{|y_1 - \\hat{y_1}| + |y_2 - \\hat{y_2}| + \\cdots + |y_n - \\hat{y_n}|}{n} $$\n",
    "$$\\text{MAE } = \\sum_{i=1}^{n} \\dfrac {|y_i - \\hat{y_i}|}{n}$$\n",
    "\n",
    "Let’s now see how to implement MAE in Python."
   ]
  },
  {
   "cell_type": "code",
   "execution_count": 403,
   "id": "040d1ee4-537c-4bd1-a66d-aedd508628a0",
   "metadata": {},
   "outputs": [],
   "source": [
    "from sklearn.metrics import mean_absolute_error "
   ]
  },
  {
   "cell_type": "code",
   "execution_count": 405,
   "id": "bf59a88e-42c1-47e2-8606-1ce039d1c6b5",
   "metadata": {},
   "outputs": [
    {
     "name": "stdout",
     "output_type": "stream",
     "text": [
      "MAE : 0.2848669679223795\n"
     ]
    }
   ],
   "source": [
    "print('MAE :', mean_absolute_error(train_targets, train_pred))"
   ]
  },
  {
   "cell_type": "markdown",
   "id": "ac3d0394-6c6a-46f7-b0db-03f692637081",
   "metadata": {},
   "source": [
    "#### Advantages of MAE\n",
    "- The MAE you get is in the same unit as the output variable.\n",
    "- All errors are treated equally, so the metric is robust to outliers.\n",
    "#### Disadvantages of MAE\n",
    "- As the formula contains absolute values, the graph of MAE is not differentiable so we have to apply various optimizers like Gradient descent which can be differentiable.\n",
    "\n",
    "Now to overcome the disadvantage of MAE next metric came as MSE."
   ]
  },
  {
   "cell_type": "markdown",
   "id": "0e3f119f-46b5-453e-9fa7-9f3124b3a0a7",
   "metadata": {},
   "source": [
    "### 2. Mean Square Error (MSE):\n",
    "It represents the squared distance between actual and predicted values. we perform squared to avoid the cancellation of negative terms and it is the benefit of MSE."
   ]
  },
  {
   "cell_type": "markdown",
   "id": "de9f4b80-19ab-490a-b8cd-92e15ff99f2f",
   "metadata": {},
   "source": [
    "$$ \\text{MSE } = \\dfrac{(y_1 - \\hat{y_1})^2 + (y_2 - \\hat{y_2})^2 + \\cdots + (y_n - \\hat{y_n})^2}{n}$$\n",
    "$$\\text{MSE } = \\sum_{i=1}^{n} \\dfrac {(y_i - \\hat{y_i})^2}{n}$$\n",
    "\n",
    "Let’s now see how to implement MSE in Python."
   ]
  },
  {
   "cell_type": "code",
   "execution_count": 407,
   "id": "a4d31950-add6-4097-a60d-ff14e6c099df",
   "metadata": {},
   "outputs": [],
   "source": [
    "from sklearn.metrics import mean_squared_error"
   ]
  },
  {
   "cell_type": "code",
   "execution_count": 409,
   "id": "cda1c554-dfa2-4c6c-82dd-bdc2909396fa",
   "metadata": {},
   "outputs": [
    {
     "name": "stdout",
     "output_type": "stream",
     "text": [
      "MSE : 0.1996456147322207\n"
     ]
    }
   ],
   "source": [
    "print('MSE :', mean_squared_error(train_targets, train_pred))"
   ]
  },
  {
   "cell_type": "markdown",
   "id": "338eca4e-2a2c-4061-bdda-41244f3857cc",
   "metadata": {},
   "source": [
    "#### Advantages of MSE\n",
    "\n",
    "- The graph of MSE is differentiable, so you can easily use it as a loss function.\n",
    "\n",
    "#### Disadvantages of MSE\n",
    "\n",
    "- The value you get after calculating MSE is a squared unit of output. for example, the output variable is in meter(m) then after calculating MSE the output we get is in meters squared.\n",
    "- If you have outliers in the dataset then it penalizes the outliers most and the calculated MSE is bigger. So, in short, It is not Robust to outliers which was an advantage in MAE."
   ]
  },
  {
   "cell_type": "markdown",
   "id": "8779fe7d-41e1-4fd9-aa22-1fbd15bf7177",
   "metadata": {},
   "source": [
    "### 3. Root Mean Square Error (RMSE): \n",
    "Root Mean Squared Error (RMSE), as its name suggests, is the square root of the mean squared error. Like the Mean Absolute Error (MAE), RMSE is used to determine how close predictions are to actual values on average. However, RMSE has a key distinction.\n",
    "\n",
    "RMSE is particularly useful for identifying large errors or deviations in predictions. It can highlight whether the model significantly overestimated (predicted values much higher than actual) or underestimated (predicted values much lower than actual) certain points. This is because squaring the residuals before averaging them places a greater penalty on larger errors.\n",
    "\n",
    "When to Use RMSE:\n",
    "\n",
    "- Concern for Large Errors: RMSE is ideal if you are particularly concerned about large errors in your predictions. Because squaring the residuals increases the impact of larger errors, RMSE provides a clear indication of their presence.\n",
    "- Comparing Models: RMSE is a popular evaluation metric for regression problems, especially when comparing models that use the same dataset but different algorithms. The model with the lowest RMSE is typically considered the better model.\n",
    "Key Points:\n",
    "\n",
    "There is no specific range for RMSE, but generally, the lower the RMSE, the better the model's performance.\n",
    "RMSE not only measures the average error in predictions but also gives insight into the impact of large errors."
   ]
  },
  {
   "cell_type": "markdown",
   "id": "bc141916-4c16-451f-9f7b-564381d8e3da",
   "metadata": {},
   "source": [
    "$$RMSE = \\sqrt {\\sum_{i=1}^{n} \\dfrac {(y_i - \\hat{y_i})^2}{n}}$$\n",
    "$$RMSE = \\sqrt {MSE}$$"
   ]
  },
  {
   "cell_type": "code",
   "execution_count": 411,
   "id": "9fa15221-ee3e-4a9b-aa76-fb493813e2b3",
   "metadata": {},
   "outputs": [
    {
     "name": "stdout",
     "output_type": "stream",
     "text": [
      "RMSE:  0.44681720505394673\n"
     ]
    }
   ],
   "source": [
    "print('RMSE: ', np.sqrt(mean_squared_error(train_targets, train_pred)))"
   ]
  },
  {
   "cell_type": "markdown",
   "id": "cbcff19d-2105-4d77-af72-fb6d592eed08",
   "metadata": {},
   "source": [
    "We can see that the RMSE value is larger than the MAE. This is a result of some large errors in the dataset.\n",
    "\n",
    "#### Disadvantages of RMSE\n",
    "- It is not that robust to outliers as compared to MAE"
   ]
  },
  {
   "cell_type": "markdown",
   "id": "f3bdc40f-f71b-477d-963a-5f5a05d9f574",
   "metadata": {},
   "source": [
    "### 4. $R^2$ Score:\n",
    "**$R^2$ Score**, also known as the `Coefficient of Determination` or `Goodness of Fit`, is a metric that evaluates the performance of a regression model. Unlike metrics like MAE or MSE, which provide a measure of error or loss, the R2 score indicates how well your model's predictions match the actual data.\n",
    "\n",
    "One of the key advantages of the R2 score is its independence from the context of the data. While MAE and MSE values are influenced by the scale of the data, the $R^2$ score provides a standardized measure that can be easily interpreted regardless of the specific dataset.\n",
    "\n",
    "The R2 score gives you a baseline to compare your model's performance against a simple mean model. Essentially, it measures how much better (or worse) your regression line is compared to a horizontal line representing the mean of the target values. This comparison helps you understand the proportion of the variance in the dependent variable that is predictable from the independent variables."
   ]
  },
  {
   "cell_type": "markdown",
   "id": "e96a5ff5-d4c1-4555-b1e8-d42c3cec5e89",
   "metadata": {},
   "source": [
    "$$R^2 = 1 - \\dfrac{\\sum(y_i - \\hat{y_i})^2}{\\sum(y_i - \\bar{y_i})^2}$$"
   ]
  },
  {
   "cell_type": "markdown",
   "id": "b2a0924d-178a-4503-b074-8b3e3d223d5f",
   "metadata": {},
   "source": [
    "### Interpreting the $R^2$ Score\n",
    "The $R^2$ score, or Coefficient of Determination, provides insight into the performance of a regression model by indicating how well the model's predictions match the actual data. Here’s how to interpret different $R^2$ scores:\n",
    "\n",
    "**$R^2$ Score of 0:**\n",
    "\n",
    "When the $R^2$ score is zero, it means that the regression model's predictions are no better than simply predicting the mean of the target values.\n",
    "In other words, the regression line overlaps with the mean line, indicating that the model fails to capture any of the variance in the data. This suggests that the model has the worst possible performance and cannot leverage the information in the input features to predict the output.\n",
    "\n",
    "**$R^2$ Score of 1:**\n",
    "\n",
    "An $R^2$ score of 1 indicates that the regression model perfectly fits the data. This means that the regression line captures all the variance in the target variable, with no errors in predictions.\n",
    "While this is theoretically possible, it is very unlikely in real-world scenarios due to the presence of noise and variability in the data. A perfect fit usually suggests overfitting, where the model captures not only the underlying pattern but also the noise in the training data.\n",
    "\n",
    "**$R^2$ Score between 0 and 1:**\n",
    "\n",
    "Most real-world models will have an $R^2$ score between 0 and 1. For example, an $R^2$ score of 0.74 means that the model explains 74% of the variance in the target variable.\n",
    "This indicates that the model performs well and can predict the target variable with a reasonable degree of accuracy, but there is still room for improvement as 26% of the variance is unexplained."
   ]
  },
  {
   "cell_type": "code",
   "execution_count": 413,
   "id": "5ce8b4c8-6737-4ab0-83aa-008a349f1f6a",
   "metadata": {},
   "outputs": [],
   "source": [
    "from sklearn.metrics import r2_score"
   ]
  },
  {
   "cell_type": "code",
   "execution_count": 415,
   "id": "77ed5da9-4335-4804-b7ca-fbcb90765d8f",
   "metadata": {},
   "outputs": [
    {
     "name": "stdout",
     "output_type": "stream",
     "text": [
      "R2 Score:  0.7595322721994279\n"
     ]
    }
   ],
   "source": [
    "print('R2 Score: ', r2_score(train_targets, train_pred))"
   ]
  },
  {
   "cell_type": "markdown",
   "id": "13e19eb2-491c-4601-8b95-1af8abc84238",
   "metadata": {},
   "source": [
    "**Limitations of the $R^2$ Score and the Need for Adjusted $R^2$**\n",
    "\n",
    "The $R^2$ score is a useful metric for evaluating the goodness of fit of a regression model. However, it has a significant limitation:\n",
    "\n",
    "- **Inflation with Additional Features:** The $R^2$ score never decreases when new features are added to the model. This is because $R^2$ assumes that adding more features will either increase the explained variance or leave it unchanged. However, this can be misleading.\n",
    "- **Irrelevant Features:** When irrelevant or redundant features are added to the model, the $R^2$ score might still increase. This can give the false impression that the model is improving, even though these features do not actually contribute to better predictions and may lead to overfitting.\n",
    "\n",
    "To address this issue, Adjusted $R^2$ was introduced. Adjusted $R^2$ accounts for the number of predictors in the model and adjusts the $R^2$ score accordingly.\n"
   ]
  },
  {
   "cell_type": "markdown",
   "id": "7c3ace30-bd5a-494c-a3fe-973d7c50ff03",
   "metadata": {},
   "source": [
    "### 5. $R^2$ Adjusted:\n",
    "\n",
    "Adjusted $R^2$ modifies the $R^2$ score to penalize the addition of irrelevant features:\n",
    "\n",
    "- **Adjusts for the Number of Features:** It introduces a penalty for the number of predictors in the model. This means that adding a new feature will only increase the Adjusted $R^2$ if the new feature improves the model more than would be expected by chance.\n",
    "- **Prevents Overfitting:** By adjusting for the number of predictors, Adjusted $R^2$ discourages the inclusion of irrelevant variables, thus helping to maintain a more parsimonious model.\n",
    "\n",
    "The Adjusted $R^2$ is calculated as follows:"
   ]
  },
  {
   "cell_type": "markdown",
   "id": "9e61d035-8ff6-41b0-bfd7-d9dde2887484",
   "metadata": {},
   "source": [
    "$$ Adjusted R^2 = 1 - \\left[ \\dfrac{(1-R^2)(n-1)}{n-k-1} \\right]$$\n",
    "\n",
    "Where:\\\n",
    "**$n$** is the number of observations\\\n",
    "**$k$** is the number of predictors\\\n",
    "**$R^2$**  is the original coefficient of determination"
   ]
  },
  {
   "cell_type": "code",
   "execution_count": 419,
   "id": "f06f40db-6773-49b6-bcf6-180e7ad72218",
   "metadata": {},
   "outputs": [],
   "source": [
    "n = df.shape[0]\n",
    "k = df.shape[1] - 1"
   ]
  },
  {
   "cell_type": "code",
   "execution_count": 431,
   "id": "f233bdc7-a3c2-465b-9aea-c2c8c4d61cff",
   "metadata": {},
   "outputs": [],
   "source": [
    "r2 = r2_score(train_targets, train_pred)"
   ]
  },
  {
   "cell_type": "code",
   "execution_count": 433,
   "id": "a037545f-1e26-4084-a9d8-5d1786c8d96b",
   "metadata": {},
   "outputs": [
    {
     "data": {
      "text/plain": [
       "0.7595322721994279"
      ]
     },
     "execution_count": 433,
     "metadata": {},
     "output_type": "execute_result"
    }
   ],
   "source": [
    "r2"
   ]
  },
  {
   "cell_type": "code",
   "execution_count": 449,
   "id": "baaf604d-2083-47e7-bddd-544547798b6f",
   "metadata": {},
   "outputs": [],
   "source": [
    "adj = 1- ((1-r2)*(n-1))/(n-k-1)"
   ]
  },
  {
   "cell_type": "code",
   "execution_count": 451,
   "id": "fd14298b-f384-4bc0-9bfb-46b7f3c57896",
   "metadata": {},
   "outputs": [
    {
     "data": {
      "text/plain": [
       "0.7579025963333095"
      ]
     },
     "execution_count": 451,
     "metadata": {},
     "output_type": "execute_result"
    }
   ],
   "source": [
    "adj"
   ]
  },
  {
   "cell_type": "code",
   "execution_count": null,
   "id": "3db29026-a481-4634-bf5d-a6068cc58ee6",
   "metadata": {},
   "outputs": [],
   "source": []
  },
  {
   "cell_type": "code",
   "execution_count": null,
   "id": "15d35011-1375-4d34-89be-66d93f54b6b4",
   "metadata": {},
   "outputs": [],
   "source": []
  },
  {
   "cell_type": "code",
   "execution_count": null,
   "id": "38b5b982-6858-4904-9346-56fa8acdf24e",
   "metadata": {
    "id": "38b5b982-6858-4904-9346-56fa8acdf24e"
   },
   "outputs": [],
   "source": []
  },
  {
   "cell_type": "markdown",
   "id": "b10f0c8d-2bc6-44d9-a64f-b2ddb9e4c38a",
   "metadata": {
    "id": "b10f0c8d-2bc6-44d9-a64f-b2ddb9e4c38a"
   },
   "source": [
    "# Assignment\n",
    "\n",
    "## House Price Prediction with Linear Regression\n",
    "\n",
    "![](https://i.imgur.com/3sw1fY9.jpg)\n",
    "\n",
    "In this project, we're going to predict the price of a house using information like its location, area, no. of rooms etc. We'll use the dataset from the [House Prices - Advanced Regression Techniques](https://www.kaggle.com/c/house-prices-advanced-regression-techniques) competition on [Kaggle](https://kaggle.com). We'll follow a step-by-step process to train our model:\n",
    "\n",
    "1. Download and explore the data\n",
    "2. Prepare the dataset for training\n",
    "3. Train a linear regression model\n",
    "4. Make predictions and evaluate the model"
   ]
  },
  {
   "cell_type": "code",
   "execution_count": null,
   "id": "09f1a86d-a520-4c4c-8485-0211fecb21f6",
   "metadata": {
    "id": "09f1a86d-a520-4c4c-8485-0211fecb21f6"
   },
   "outputs": [],
   "source": []
  }
 ],
 "metadata": {
  "colab": {
   "provenance": []
  },
  "kernelspec": {
   "display_name": "Python 3 (ipykernel)",
   "language": "python",
   "name": "python3"
  },
  "language_info": {
   "codemirror_mode": {
    "name": "ipython",
    "version": 3
   },
   "file_extension": ".py",
   "mimetype": "text/x-python",
   "name": "python",
   "nbconvert_exporter": "python",
   "pygments_lexer": "ipython3",
   "version": "3.12.4"
  }
 },
 "nbformat": 4,
 "nbformat_minor": 5
}
